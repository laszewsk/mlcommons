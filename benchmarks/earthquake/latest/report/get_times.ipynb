{
 "cells": [
  {
   "cell_type": "code",
   "execution_count": 7,
   "metadata": {
    "collapsed": true,
    "ExecuteTime": {
     "start_time": "2023-04-16T21:05:37.671316Z",
     "end_time": "2023-04-16T21:05:37.700638Z"
    }
   },
   "outputs": [],
   "source": [
    "from cloudmesh.common.Shell import Shell\n",
    "from cloudmesh.common.util import readfile\n",
    "import glob\n",
    "import os\n",
    "import pandas as pd"
   ]
  },
  {
   "cell_type": "code",
   "execution_count": 8,
   "outputs": [
    {
     "name": "stdout",
     "output_type": "stream",
     "text": [
      "['C:\\\\Users\\\\stapm\\\\cm\\\\mlcommons\\\\benchmarks\\\\earthquake\\\\latest\\\\experiments\\\\rivanna\\\\localscratch\\\\card_name_a100_gpu_count_1_cpu_num_6_mem_32GB_repeat_1_TFTTransformerepochs_2\\\\dje5dj-45737981.err', 'C:\\\\Users\\\\stapm\\\\cm\\\\mlcommons\\\\benchmarks\\\\earthquake\\\\latest\\\\experiments\\\\rivanna\\\\localscratch\\\\card_name_a100_gpu_count_1_cpu_num_6_mem_32GB_repeat_1_TFTTransformerepochs_25\\\\dje5dj-45350949.err', 'C:\\\\Users\\\\stapm\\\\cm\\\\mlcommons\\\\benchmarks\\\\earthquake\\\\latest\\\\experiments\\\\rivanna\\\\localscratch\\\\card_name_a100_gpu_count_1_cpu_num_6_mem_32GB_repeat_1_TFTTransformerepochs_29\\\\dje5dj-45350950.err', 'C:\\\\Users\\\\stapm\\\\cm\\\\mlcommons\\\\benchmarks\\\\earthquake\\\\latest\\\\experiments\\\\rivanna\\\\localscratch\\\\card_name_a100_gpu_count_1_cpu_num_6_mem_32GB_repeat_1_TFTTransformerepochs_30\\\\dje5dj-45737982.err', 'C:\\\\Users\\\\stapm\\\\cm\\\\mlcommons\\\\benchmarks\\\\earthquake\\\\latest\\\\experiments\\\\rivanna\\\\localscratch\\\\card_name_a100_gpu_count_1_cpu_num_6_mem_32GB_repeat_1_TFTTransformerepochs_33\\\\dje5dj-45350951.err', 'C:\\\\Users\\\\stapm\\\\cm\\\\mlcommons\\\\benchmarks\\\\earthquake\\\\latest\\\\experiments\\\\rivanna\\\\localscratch\\\\card_name_a100_gpu_count_1_cpu_num_6_mem_32GB_repeat_1_TFTTransformerepochs_35\\\\dje5dj-45350952.err', 'C:\\\\Users\\\\stapm\\\\cm\\\\mlcommons\\\\benchmarks\\\\earthquake\\\\latest\\\\experiments\\\\rivanna\\\\localscratch\\\\card_name_a100_gpu_count_1_cpu_num_6_mem_32GB_repeat_1_TFTTransformerepochs_70\\\\dje5dj-45737983.err', 'C:\\\\Users\\\\stapm\\\\cm\\\\mlcommons\\\\benchmarks\\\\earthquake\\\\latest\\\\experiments\\\\rivanna\\\\localscratch\\\\card_name_a100_gpu_count_1_cpu_num_6_mem_32GB_repeat_2_TFTTransformerepochs_2\\\\dje5dj-45737984.err', 'C:\\\\Users\\\\stapm\\\\cm\\\\mlcommons\\\\benchmarks\\\\earthquake\\\\latest\\\\experiments\\\\rivanna\\\\localscratch\\\\card_name_a100_gpu_count_1_cpu_num_6_mem_32GB_repeat_2_TFTTransformerepochs_30\\\\dje5dj-45737985.err', 'C:\\\\Users\\\\stapm\\\\cm\\\\mlcommons\\\\benchmarks\\\\earthquake\\\\latest\\\\experiments\\\\rivanna\\\\localscratch\\\\card_name_a100_gpu_count_1_cpu_num_6_mem_32GB_repeat_2_TFTTransformerepochs_70\\\\dje5dj-45737986.err', 'C:\\\\Users\\\\stapm\\\\cm\\\\mlcommons\\\\benchmarks\\\\earthquake\\\\latest\\\\experiments\\\\rivanna\\\\localscratch\\\\card_name_a100_gpu_count_1_cpu_num_6_mem_32GB_repeat_3_TFTTransformerepochs_2\\\\dje5dj-45737987.err', 'C:\\\\Users\\\\stapm\\\\cm\\\\mlcommons\\\\benchmarks\\\\earthquake\\\\latest\\\\experiments\\\\rivanna\\\\localscratch\\\\card_name_a100_gpu_count_1_cpu_num_6_mem_32GB_repeat_3_TFTTransformerepochs_30\\\\dje5dj-45737988.err', 'C:\\\\Users\\\\stapm\\\\cm\\\\mlcommons\\\\benchmarks\\\\earthquake\\\\latest\\\\experiments\\\\rivanna\\\\localscratch\\\\card_name_a100_gpu_count_1_cpu_num_6_mem_32GB_repeat_3_TFTTransformerepochs_70\\\\dje5dj-45737989.err', 'C:\\\\Users\\\\stapm\\\\cm\\\\mlcommons\\\\benchmarks\\\\earthquake\\\\latest\\\\experiments\\\\rivanna\\\\localscratch\\\\card_name_a100_gpu_count_1_cpu_num_6_mem_32GB_repeat_4_TFTTransformerepochs_2\\\\dje5dj-45737990.err', 'C:\\\\Users\\\\stapm\\\\cm\\\\mlcommons\\\\benchmarks\\\\earthquake\\\\latest\\\\experiments\\\\rivanna\\\\localscratch\\\\card_name_a100_gpu_count_1_cpu_num_6_mem_32GB_repeat_4_TFTTransformerepochs_30\\\\dje5dj-45737991.err', 'C:\\\\Users\\\\stapm\\\\cm\\\\mlcommons\\\\benchmarks\\\\earthquake\\\\latest\\\\experiments\\\\rivanna\\\\localscratch\\\\card_name_a100_gpu_count_1_cpu_num_6_mem_32GB_repeat_4_TFTTransformerepochs_70\\\\dje5dj-45737992.err', 'C:\\\\Users\\\\stapm\\\\cm\\\\mlcommons\\\\benchmarks\\\\earthquake\\\\latest\\\\experiments\\\\rivanna\\\\localscratch\\\\card_name_a100_gpu_count_1_cpu_num_6_mem_32GB_repeat_5_TFTTransformerepochs_2\\\\dje5dj-45737993.err', 'C:\\\\Users\\\\stapm\\\\cm\\\\mlcommons\\\\benchmarks\\\\earthquake\\\\latest\\\\experiments\\\\rivanna\\\\localscratch\\\\card_name_a100_gpu_count_1_cpu_num_6_mem_32GB_repeat_5_TFTTransformerepochs_30\\\\dje5dj-45737994.err', 'C:\\\\Users\\\\stapm\\\\cm\\\\mlcommons\\\\benchmarks\\\\earthquake\\\\latest\\\\experiments\\\\rivanna\\\\localscratch\\\\card_name_a100_gpu_count_1_cpu_num_6_mem_32GB_repeat_5_TFTTransformerepochs_70\\\\dje5dj-45737995.err', 'C:\\\\Users\\\\stapm\\\\cm\\\\mlcommons\\\\benchmarks\\\\earthquake\\\\latest\\\\experiments\\\\rivanna\\\\localscratch\\\\card_name_v100_gpu_count_1_cpu_num_6_mem_32GB_repeat_1_TFTTransformerepochs_10\\\\dje5dj-44848920.err', 'C:\\\\Users\\\\stapm\\\\cm\\\\mlcommons\\\\benchmarks\\\\earthquake\\\\latest\\\\experiments\\\\rivanna\\\\localscratch\\\\card_name_v100_gpu_count_1_cpu_num_6_mem_32GB_repeat_1_TFTTransformerepochs_2\\\\dje5dj-44848919.err', 'C:\\\\Users\\\\stapm\\\\cm\\\\mlcommons\\\\benchmarks\\\\earthquake\\\\latest\\\\experiments\\\\rivanna\\\\localscratch\\\\card_name_v100_gpu_count_1_cpu_num_6_mem_32GB_repeat_1_TFTTransformerepochs_2\\\\dje5dj-48839670.err', 'C:\\\\Users\\\\stapm\\\\cm\\\\mlcommons\\\\benchmarks\\\\earthquake\\\\latest\\\\experiments\\\\rivanna\\\\localscratch\\\\card_name_v100_gpu_count_1_cpu_num_6_mem_32GB_repeat_1_TFTTransformerepochs_20\\\\dje5dj-44848921.err', 'C:\\\\Users\\\\stapm\\\\cm\\\\mlcommons\\\\benchmarks\\\\earthquake\\\\latest\\\\experiments\\\\rivanna\\\\localscratch\\\\card_name_v100_gpu_count_1_cpu_num_6_mem_32GB_repeat_1_TFTTransformerepochs_30\\\\dje5dj-44848922.err', 'C:\\\\Users\\\\stapm\\\\cm\\\\mlcommons\\\\benchmarks\\\\earthquake\\\\latest\\\\experiments\\\\rivanna\\\\localscratch\\\\card_name_v100_gpu_count_1_cpu_num_6_mem_32GB_repeat_1_TFTTransformerepochs_30\\\\dje5dj-48839671.err', 'C:\\\\Users\\\\stapm\\\\cm\\\\mlcommons\\\\benchmarks\\\\earthquake\\\\latest\\\\experiments\\\\rivanna\\\\localscratch\\\\card_name_v100_gpu_count_1_cpu_num_6_mem_32GB_repeat_1_TFTTransformerepochs_34\\\\dje5dj-44848923.err', 'C:\\\\Users\\\\stapm\\\\cm\\\\mlcommons\\\\benchmarks\\\\earthquake\\\\latest\\\\experiments\\\\rivanna\\\\localscratch\\\\card_name_v100_gpu_count_1_cpu_num_6_mem_32GB_repeat_1_TFTTransformerepochs_40\\\\dje5dj-44848924.err', 'C:\\\\Users\\\\stapm\\\\cm\\\\mlcommons\\\\benchmarks\\\\earthquake\\\\latest\\\\experiments\\\\rivanna\\\\localscratch\\\\card_name_v100_gpu_count_1_cpu_num_6_mem_32GB_repeat_1_TFTTransformerepochs_50\\\\dje5dj-44848925.err', 'C:\\\\Users\\\\stapm\\\\cm\\\\mlcommons\\\\benchmarks\\\\earthquake\\\\latest\\\\experiments\\\\rivanna\\\\localscratch\\\\card_name_v100_gpu_count_1_cpu_num_6_mem_32GB_repeat_1_TFTTransformerepochs_60\\\\dje5dj-44848926.err', 'C:\\\\Users\\\\stapm\\\\cm\\\\mlcommons\\\\benchmarks\\\\earthquake\\\\latest\\\\experiments\\\\rivanna\\\\localscratch\\\\card_name_v100_gpu_count_1_cpu_num_6_mem_32GB_repeat_1_TFTTransformerepochs_70\\\\dje5dj-44848927.err', 'C:\\\\Users\\\\stapm\\\\cm\\\\mlcommons\\\\benchmarks\\\\earthquake\\\\latest\\\\experiments\\\\rivanna\\\\localscratch\\\\card_name_v100_gpu_count_1_cpu_num_6_mem_32GB_repeat_1_TFTTransformerepochs_70\\\\dje5dj-48839672.err', 'C:\\\\Users\\\\stapm\\\\cm\\\\mlcommons\\\\benchmarks\\\\earthquake\\\\latest\\\\experiments\\\\rivanna\\\\localscratch\\\\card_name_v100_gpu_count_1_cpu_num_6_mem_32GB_repeat_2_TFTTransformerepochs_2\\\\dje5dj-48839673.err', 'C:\\\\Users\\\\stapm\\\\cm\\\\mlcommons\\\\benchmarks\\\\earthquake\\\\latest\\\\experiments\\\\rivanna\\\\localscratch\\\\card_name_v100_gpu_count_1_cpu_num_6_mem_32GB_repeat_2_TFTTransformerepochs_30\\\\dje5dj-48839674.err', 'C:\\\\Users\\\\stapm\\\\cm\\\\mlcommons\\\\benchmarks\\\\earthquake\\\\latest\\\\experiments\\\\rivanna\\\\localscratch\\\\card_name_v100_gpu_count_1_cpu_num_6_mem_32GB_repeat_2_TFTTransformerepochs_70\\\\dje5dj-48839675.err', 'C:\\\\Users\\\\stapm\\\\cm\\\\mlcommons\\\\benchmarks\\\\earthquake\\\\latest\\\\experiments\\\\rivanna\\\\localscratch\\\\card_name_v100_gpu_count_1_cpu_num_6_mem_32GB_repeat_3_TFTTransformerepochs_2\\\\dje5dj-48839676.err', 'C:\\\\Users\\\\stapm\\\\cm\\\\mlcommons\\\\benchmarks\\\\earthquake\\\\latest\\\\experiments\\\\rivanna\\\\localscratch\\\\card_name_v100_gpu_count_1_cpu_num_6_mem_32GB_repeat_3_TFTTransformerepochs_30\\\\dje5dj-48839677.err', 'C:\\\\Users\\\\stapm\\\\cm\\\\mlcommons\\\\benchmarks\\\\earthquake\\\\latest\\\\experiments\\\\rivanna\\\\localscratch\\\\card_name_v100_gpu_count_1_cpu_num_6_mem_32GB_repeat_3_TFTTransformerepochs_70\\\\dje5dj-48839678.err', 'C:\\\\Users\\\\stapm\\\\cm\\\\mlcommons\\\\benchmarks\\\\earthquake\\\\latest\\\\experiments\\\\rivanna\\\\localscratch\\\\card_name_v100_gpu_count_1_cpu_num_6_mem_32GB_repeat_4_TFTTransformerepochs_2\\\\dje5dj-48839679.err', 'C:\\\\Users\\\\stapm\\\\cm\\\\mlcommons\\\\benchmarks\\\\earthquake\\\\latest\\\\experiments\\\\rivanna\\\\localscratch\\\\card_name_v100_gpu_count_1_cpu_num_6_mem_32GB_repeat_4_TFTTransformerepochs_30\\\\dje5dj-48839680.err', 'C:\\\\Users\\\\stapm\\\\cm\\\\mlcommons\\\\benchmarks\\\\earthquake\\\\latest\\\\experiments\\\\rivanna\\\\localscratch\\\\card_name_v100_gpu_count_1_cpu_num_6_mem_32GB_repeat_4_TFTTransformerepochs_70\\\\dje5dj-48839681.err', 'C:\\\\Users\\\\stapm\\\\cm\\\\mlcommons\\\\benchmarks\\\\earthquake\\\\latest\\\\experiments\\\\rivanna\\\\localscratch\\\\card_name_v100_gpu_count_1_cpu_num_6_mem_32GB_repeat_5_TFTTransformerepochs_2\\\\dje5dj-48839682.err', 'C:\\\\Users\\\\stapm\\\\cm\\\\mlcommons\\\\benchmarks\\\\earthquake\\\\latest\\\\experiments\\\\rivanna\\\\localscratch\\\\card_name_v100_gpu_count_1_cpu_num_6_mem_32GB_repeat_5_TFTTransformerepochs_30\\\\dje5dj-48839683.err', 'C:\\\\Users\\\\stapm\\\\cm\\\\mlcommons\\\\benchmarks\\\\earthquake\\\\latest\\\\experiments\\\\rivanna\\\\localscratch\\\\card_name_v100_gpu_count_1_cpu_num_6_mem_32GB_repeat_5_TFTTransformerepochs_70\\\\dje5dj-48839684.err', 'C:\\\\Users\\\\stapm\\\\cm\\\\mlcommons\\\\benchmarks\\\\earthquake\\\\latest\\\\experiments\\\\rivanna\\\\project\\\\dje5dj-49038559.err', 'C:\\\\Users\\\\stapm\\\\cm\\\\mlcommons\\\\benchmarks\\\\earthquake\\\\latest\\\\experiments\\\\rivanna\\\\project\\\\card_name_rtx3090_gpu_count_1_cpu_num_6_mem_32GB_repeat_1_TFTTransformerepochs_15\\\\dje5dj-49038560.err', 'C:\\\\Users\\\\stapm\\\\cm\\\\mlcommons\\\\benchmarks\\\\earthquake\\\\latest\\\\experiments\\\\rivanna\\\\project\\\\card_name_rtx3090_gpu_count_1_cpu_num_6_mem_32GB_repeat_1_TFTTransformerepochs_2\\\\dje5dj-49038559.err', 'C:\\\\Users\\\\stapm\\\\cm\\\\mlcommons\\\\benchmarks\\\\earthquake\\\\latest\\\\experiments\\\\rivanna\\\\project\\\\card_name_rtx3090_gpu_count_1_cpu_num_6_mem_32GB_repeat_1_TFTTransformerepochs_30\\\\dje5dj-49038561.err']\n"
     ]
    }
   ],
   "source": [
    "directory_of_runs = Shell.map_filename('../experiments/rivanna/localscratch').path\n",
    "list_of_errs = glob.glob(fr'{directory_of_runs}/**/*.err', recursive=True)\n",
    "directory_of_project_runs = Shell.map_filename('../experiments/rivanna/project').path\n",
    "list_of_project_errs = glob.glob(fr'{directory_of_project_runs}/**/*.err', recursive=True)\n",
    "list_of_errs.extend(list_of_project_errs)\n",
    "# errs refers to err output files generated by slurm on rivanna\n",
    "print(list_of_errs)"
   ],
   "metadata": {
    "collapsed": false,
    "ExecuteTime": {
     "start_time": "2023-04-16T21:05:37.678348Z",
     "end_time": "2023-04-16T21:05:37.764061Z"
    }
   }
  },
  {
   "cell_type": "code",
   "execution_count": 9,
   "outputs": [
    {
     "name": "stdout",
     "output_type": "stream",
     "text": [
      "FAIL!!\n",
      "FAIL!!\n",
      "FAIL!!\n",
      "FAIL!!\n",
      "         gpu gpu count cpu count memory repeat epochs  total time identifier\n",
      "19      v100         1         6   32GB      1     10   18756.338   44848920\n",
      "44   rtx3090         1         6   32GB      1     15   20177.606   49038560\n",
      "0       a100         1         6   32GB      1      2    9876.208   45737981\n",
      "40      v100         1         6   32GB      5      2   12094.759   48839682\n",
      "37      v100         1         6   32GB      4      2   11994.754   48839679\n",
      "34      v100         1         6   32GB      3      2   11772.596   48839676\n",
      "31      v100         1         6   32GB      2      2   12050.020   48839673\n",
      "45   rtx3090         1         6   32GB      1      2   11929.499   49038559\n",
      "7       a100         1         6   32GB      2      2    9986.575   45737984\n",
      "21      v100         1         6   32GB      1      2   11150.002   48839670\n",
      "20      v100         1         6   32GB      1      2   13752.481   44848919\n",
      "10      a100         1         6   32GB      3      2   10020.309   45737987\n",
      "16      a100         1         6   32GB      5      2   10031.464   45737993\n",
      "13      a100         1         6   32GB      4      2   10023.723   45737990\n",
      "22      v100         1         6   32GB      1     20   24994.765   44848921\n",
      "1       a100         1         6   32GB      1     25   23904.046   45350949\n",
      "2       a100         1         6   32GB      1     29   26133.404   45350950\n",
      "46   rtx3090         1         6   32GB      1     30   30866.060   49038561\n",
      "38      v100         1         6   32GB      4     30   33177.016   48839680\n",
      "32      v100         1         6   32GB      2     30   32859.667   48839674\n",
      "14      a100         1         6   32GB      4     30   27360.318   45737991\n",
      "35      v100         1         6   32GB      3     30   32825.930   48839677\n",
      "24      v100         1         6   32GB      1     30   31431.241   48839671\n",
      "3       a100         1         6   32GB      1     30   26757.542   45737982\n",
      "8       a100         1         6   32GB      2     30   27447.527   45737985\n",
      "41      v100         1         6   32GB      5     30   32658.909   48839683\n",
      "11      a100         1         6   32GB      3     30   27386.087   45737988\n",
      "17      a100         1         6   32GB      5     30   27613.939   45737994\n",
      "23      v100         1         6   32GB      1     30   30551.016   44848922\n",
      "4       a100         1         6   32GB      1     33   28700.585   45350951\n",
      "25      v100         1         6   32GB      1     34   38131.589   44848923\n",
      "5       a100         1         6   32GB      1     35   29663.199   45350952\n",
      "26      v100         1         6   32GB      1     40   42625.454   44848924\n",
      "27      v100         1         6   32GB      1     50   48215.616   44848925\n",
      "28      v100         1         6   32GB      1     60   52346.763   44848926\n",
      "39      v100         1         6   32GB      4     70   62466.785   48839681\n",
      "42      v100         1         6   32GB      5     70   63819.633   48839684\n",
      "15      a100         1         6   32GB      4     70   50393.358   45737992\n",
      "33      v100         1         6   32GB      2     70   62924.436   48839675\n",
      "29      v100         1         6   32GB      1     70   58379.368   44848927\n",
      "6       a100         1         6   32GB      1     70   50441.073   45737983\n",
      "9       a100         1         6   32GB      2     70   51923.701   45737986\n",
      "18      a100         1         6   32GB      5     70   52411.368   45737995\n",
      "12      a100         1         6   32GB      3     70   50525.605   45737989\n",
      "36      v100         1         6   32GB      3     70   61947.565   48839678\n",
      "30      v100         1         6   32GB      1     70   60594.529   48839672\n",
      "43  49038559      None      None   None   None   None         NaN       None\n"
     ]
    }
   ],
   "source": [
    "df = pd.DataFrame()\n",
    "\n",
    "parameters_list = []\n",
    "\n",
    "for error_file in list_of_errs:\n",
    "    lines = readfile(error_file, encoding='cp850')\n",
    "    #print('AAAA')\n",
    "    r = Shell.find_lines_with(lines=lines, what='# csv,total')[-1]#.split(',')\n",
    "    name = os.path.basename(os.path.dirname(error_file))\n",
    "    parameters = name.split('_')\n",
    "    parameters.append(r.split(',')[-1])\n",
    "    #print(parameters)\n",
    "    identifier = os.path.basename(error_file).replace('.err', '').split('-')[1]\n",
    "    parameters.append(identifier)\n",
    "    parameters_list.append(parameters)\n",
    "\n",
    "df = pd.DataFrame(parameters_list)\n",
    "#display(df)\n",
    "df.rename(columns={2: 'gpu', 5:'gpu count', 8:'cpu count', 10:'memory', 12:'repeat', 14:'epochs', 15:'total time', 16:'identifier'}, inplace=True)#, axis=1)\n",
    "df.drop(columns=[0, 1, 3, 4, 6, 7, 9, 11, 13],inplace=True)\n",
    "#display(df)\n",
    "#df['epochs'] = df['epochs'].astype(int)\n",
    "for column in ['epochs','gpu count', 'cpu count', 'repeat']:\n",
    "    try:\n",
    "        df[column] = df[column].astype(int)\n",
    "    except:\n",
    "        print('FAIL!!')\n",
    "df['total time'] = df['total time'].astype(float)\n",
    "\n",
    "df.sort_values('epochs', inplace=True)\n",
    "print(df.to_string())\n"
   ],
   "metadata": {
    "collapsed": false,
    "ExecuteTime": {
     "start_time": "2023-04-16T21:05:37.763059Z",
     "end_time": "2023-04-16T21:05:40.369431Z"
    }
   }
  },
  {
   "cell_type": "code",
   "execution_count": 10,
   "outputs": [
    {
     "name": "stdout",
     "output_type": "stream",
     "text": [
      "     gpu gpu count cpu count memory repeat epochs  total time identifier\n",
      "0   a100         1         6   32GB      1      2    9876.208   45737981\n",
      "7   a100         1         6   32GB      2      2    9986.575   45737984\n",
      "10  a100         1         6   32GB      3      2   10020.309   45737987\n",
      "13  a100         1         6   32GB      4      2   10023.723   45737990\n",
      "16  a100         1         6   32GB      5      2   10031.464   45737993\n",
      "1   a100         1         6   32GB      1     25   23904.046   45350949\n",
      "2   a100         1         6   32GB      1     29   26133.404   45350950\n",
      "3   a100         1         6   32GB      1     30   26757.542   45737982\n",
      "14  a100         1         6   32GB      4     30   27360.318   45737991\n",
      "11  a100         1         6   32GB      3     30   27386.087   45737988\n",
      "8   a100         1         6   32GB      2     30   27447.527   45737985\n",
      "17  a100         1         6   32GB      5     30   27613.939   45737994\n",
      "4   a100         1         6   32GB      1     33   28700.585   45350951\n",
      "5   a100         1         6   32GB      1     35   29663.199   45350952\n",
      "15  a100         1         6   32GB      4     70   50393.358   45737992\n",
      "6   a100         1         6   32GB      1     70   50441.073   45737983\n",
      "12  a100         1         6   32GB      3     70   50525.605   45737989\n",
      "9   a100         1         6   32GB      2     70   51923.701   45737986\n",
      "18  a100         1         6   32GB      5     70   52411.368   45737995\n"
     ]
    }
   ],
   "source": [
    "print(df.loc[df['gpu'] == 'a100'].sort_values('total time').to_string())"
   ],
   "metadata": {
    "collapsed": false,
    "ExecuteTime": {
     "start_time": "2023-04-16T21:05:40.374101Z",
     "end_time": "2023-04-16T21:05:40.381362Z"
    }
   }
  },
  {
   "cell_type": "code",
   "execution_count": 11,
   "outputs": [
    {
     "name": "stdout",
     "output_type": "stream",
     "text": [
      "     gpu gpu count cpu count memory repeat epochs  total time identifier\n",
      "21  v100         1         6   32GB      1      2   11150.002   48839670\n",
      "34  v100         1         6   32GB      3      2   11772.596   48839676\n",
      "37  v100         1         6   32GB      4      2   11994.754   48839679\n",
      "31  v100         1         6   32GB      2      2   12050.020   48839673\n",
      "40  v100         1         6   32GB      5      2   12094.759   48839682\n",
      "20  v100         1         6   32GB      1      2   13752.481   44848919\n",
      "19  v100         1         6   32GB      1     10   18756.338   44848920\n",
      "22  v100         1         6   32GB      1     20   24994.765   44848921\n",
      "23  v100         1         6   32GB      1     30   30551.016   44848922\n",
      "24  v100         1         6   32GB      1     30   31431.241   48839671\n",
      "41  v100         1         6   32GB      5     30   32658.909   48839683\n",
      "35  v100         1         6   32GB      3     30   32825.930   48839677\n",
      "32  v100         1         6   32GB      2     30   32859.667   48839674\n",
      "38  v100         1         6   32GB      4     30   33177.016   48839680\n",
      "25  v100         1         6   32GB      1     34   38131.589   44848923\n",
      "26  v100         1         6   32GB      1     40   42625.454   44848924\n",
      "27  v100         1         6   32GB      1     50   48215.616   44848925\n",
      "28  v100         1         6   32GB      1     60   52346.763   44848926\n",
      "29  v100         1         6   32GB      1     70   58379.368   44848927\n",
      "30  v100         1         6   32GB      1     70   60594.529   48839672\n",
      "36  v100         1         6   32GB      3     70   61947.565   48839678\n",
      "39  v100         1         6   32GB      4     70   62466.785   48839681\n",
      "33  v100         1         6   32GB      2     70   62924.436   48839675\n",
      "42  v100         1         6   32GB      5     70   63819.633   48839684\n"
     ]
    }
   ],
   "source": [
    "print(df.loc[df['gpu'] == 'v100'].sort_values('total time').to_string())"
   ],
   "metadata": {
    "collapsed": false,
    "ExecuteTime": {
     "start_time": "2023-04-16T21:05:40.384331Z",
     "end_time": "2023-04-16T21:05:40.437746Z"
    }
   }
  }
 ],
 "metadata": {
  "kernelspec": {
   "display_name": "Python 3",
   "language": "python",
   "name": "python3"
  },
  "language_info": {
   "codemirror_mode": {
    "name": "ipython",
    "version": 2
   },
   "file_extension": ".py",
   "mimetype": "text/x-python",
   "name": "python",
   "nbconvert_exporter": "python",
   "pygments_lexer": "ipython2",
   "version": "2.7.6"
  }
 },
 "nbformat": 4,
 "nbformat_minor": 0
}
