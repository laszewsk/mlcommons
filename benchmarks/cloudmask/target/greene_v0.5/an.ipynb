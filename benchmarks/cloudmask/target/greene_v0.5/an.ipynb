{
 "cells": [
  {
   "cell_type": "code",
   "execution_count": null,
   "id": "initial_id",
   "metadata": {
    "collapsed": true,
    "ExecuteTime": {
     "start_time": "2023-10-06T17:09:24.520860982Z"
    }
   },
   "outputs": [],
   "source": [
    "import os\n",
    "import glob\n",
    "import yaml  # You'll need to install the PyYAML library for YAML parsing\n",
    "from cloudmesh.common.FlatDict import FlatDict\n",
    "from pprint import pprint\n",
    "\n",
    "import pandas as pd\n",
    "import seaborn as sns\n",
    "import matplotlib.pyplot as plt\n",
    "\n",
    "# Define the directory where you want to start the search\n",
    "start_directory = 'project/'\n",
    "\n",
    "# Initialize an empty dictionary to store the results\n",
    "result = []\n",
    "\n",
    "# Use a recursive search to find all files matching the pattern\n",
    "for root, dirs, files in os.walk(start_directory):\n",
    "    for file in files:\n",
    "        if file.startswith('result') and file.endswith('.out'):\n",
    "            file_path = os.path.join(root, file)\n",
    "            with open(file_path, 'r') as f:\n",
    "                lines = f.readlines()\n",
    "                csv_lines = [line.strip() for line in lines if line.startswith(\"# csv\")]\n",
    "                try:\n",
    "                    result_line = [line.replace(\":::MLLOG\", \"\").strip() for line in lines if line.startswith(\":::MLLOG\") and '\"result\"' in line][0]\n",
    "                    result_line = eval(result_line)\n",
    "                    \n",
    "                    for k in ['event_type', 'key', 'metadata', 'namespace', 'time_ms']:\n",
    "                        del result_line[k]\n",
    "                    \n",
    "                except:\n",
    "                    result_line = None\n",
    "                csv_dict = {}\n",
    "                for line in csv_lines[1:]:  # Skip the header line\n",
    "                    line_parts = line.split(',')\n",
    "                    timer_key = line_parts[1]\n",
    "                    csv_dict[timer_key] = float(line_parts[3])\n",
    "            \n",
    "                if csv_lines:\n",
    "                    config_path = os.path.join(root, 'config.yaml')\n",
    "                    config = FlatDict()\n",
    "                    try:\n",
    "                        config.loadf(filename=config_path)\n",
    "                    except:\n",
    "                        config = None\n",
    "                    # filter only the \"experiment.\" values\n",
    "\n",
    "                    filtered = {key.replace(\"experiment.\",\"\"): value \n",
    "                                for key, value in dict(config).items() if key.startswith('experiment.')}\n",
    "                    entry = {\n",
    "                        'name': file\n",
    "                    }\n",
    "                    entry.update(csv_dict)\n",
    "                    entry.update(filtered)\n",
    "                    entry.update({\"result\": result_line})\n",
    "                    result.append(entry)\n",
    "\n",
    "\n",
    "# Print the dictionary with the results, including the config\n",
    "# for filename, data in result_dict.items():\n",
    "#     print(f'File: {filename}')\n",
    "#     print('CSV Lines:')\n",
    "#     for line in data['csv_lines']:\n",
    "#         print(line)\n",
    "#    print('Config:')\n",
    "#    for key, value in data['config'].items():\n",
    "#        print(f'{key}: {value}')\n",
    "\n",
    "#pprint(result_dict)"
   ]
  },
  {
   "cell_type": "code",
   "execution_count": null,
   "outputs": [],
   "source": [
    "pprint(result[0])\n",
    "\n",
    "result_data = result.copy()\n"
   ],
   "metadata": {
    "collapsed": false,
    "ExecuteTime": {
     "end_time": "2023-10-06T17:09:24.520962174Z",
     "start_time": "2023-10-06T17:09:24.520948183Z"
    }
   },
   "id": "2e365fc1c81f7e14"
  },
  {
   "cell_type": "markdown",
   "source": [],
   "metadata": {
    "collapsed": false
   },
   "id": "1e5f41c0f9ce11d5"
  },
  {
   "cell_type": "code",
   "execution_count": null,
   "outputs": [],
   "source": [
    "df = pd.DataFrame(result)\n",
    "print(df.columns)\n",
    "\n",
    "for c in ['epoch', 'repeat']:\n",
    "    df[c] = df[c].astype(int)\n",
    "for c in ['total', 'training', 'loaddata', 'inference']:\n",
    "    df[c] = df[c].astype(float)\n",
    "\n",
    "df = df.drop(columns=['name', 'mem', 'gpu_count', 'cpu_num', 'seed', 'batch_size', 'clip_offset', 'no_cache', 'gpu', 'nodes', 'train_split', 'learning_rate', 'early_stoppage', 'early_stoppage_patience', 'card_name', 'training_on_mutiple_GPU'])\n",
    "df\n"
   ],
   "metadata": {
    "collapsed": false,
    "ExecuteTime": {
     "end_time": "2023-10-06T17:09:24.521125617Z",
     "start_time": "2023-10-06T17:09:24.521055635Z"
    }
   },
   "id": "c4b709779e248008"
  },
  {
   "cell_type": "code",
   "execution_count": null,
   "outputs": [],
   "source": [
    "def save_plot_to_multiple_formats(plot, filename_without_extension):\n",
    "    \"\"\"\n",
    "    Save a Matplotlib plot to multiple file formats.\n",
    "\n",
    "    Args:\n",
    "        plot (matplotlib.figure.Figure): The Matplotlib figure to save.\n",
    "        filename_without_extension (str): The base filename without extension.\n",
    "\n",
    "    Returns:\n",
    "        None\n",
    "    \"\"\"\n",
    "    # Save as SVG\n",
    "    svg_filename = filename_without_extension + '.svg'\n",
    "    plot.savefig(svg_filename, format='svg', bbox_inches='tight')\n",
    "\n",
    "    # Save as JPG\n",
    "    jpg_filename = filename_without_extension + '.jpg'\n",
    "    plot.savefig(jpg_filename, format='jpg', bbox_inches='tight')\n",
    "\n",
    "    # Save as PNG\n",
    "    png_filename = filename_without_extension + '.png'\n",
    "    plot.savefig(png_filename, format='png', bbox_inches='tight')\n",
    "\n",
    "    # Save as PDF\n",
    "    pdf_filename = filename_without_extension + '.pdf'\n",
    "    plot.savefig(pdf_filename, format='pdf', bbox_inches='tight')\n"
   ],
   "metadata": {
    "collapsed": false,
    "ExecuteTime": {
     "start_time": "2023-10-06T17:09:24.521088356Z"
    }
   },
   "id": "c6f2b393d28ea51"
  },
  {
   "cell_type": "code",
   "execution_count": null,
   "outputs": [],
   "source": [
    "sns.set(style=\"whitegrid\")\n",
    "\n",
    "# Create a point plot using Seaborn\n",
    "plt.figure(figsize=(10, 6))  # Optional: Set the figure size\n",
    "sns.pointplot(x='epoch', y='total', hue='directive', data=df, palette='Set1')\n",
    "\n",
    "# Add labels and legend\n",
    "plt.xlabel('Epoch')\n",
    "plt.ylabel('Total Time in s')\n",
    "plt.legend(title='GPU')\n",
    "\n",
    "# Show the plot\n",
    "plt.show()\n"
   ],
   "metadata": {
    "collapsed": false,
    "ExecuteTime": {
     "start_time": "2023-10-06T17:09:24.521114947Z"
    }
   },
   "id": "fd537299d421c3a2"
  },
  {
   "cell_type": "code",
   "execution_count": null,
   "outputs": [],
   "source": [
    "\n",
    "# Create a line plot using Seaborn\n",
    "plt.figure(figsize=(10, 6))  # Optional: Set the figure size\n",
    "plot = sns.lineplot(x='epoch', y='total', hue='directive', data=df, palette='Set1')\n",
    "\n",
    "# Add labels\n",
    "plt.xlabel('Epoch')\n",
    "plt.ylabel('Total Time in s')\n",
    "\n",
    "# Get the current legend\n",
    "legend = plt.legend(title='Directive')\n",
    "\n",
    "# Change the label in the legend\n",
    "legend.set_title('GPU')\n",
    "\n",
    "# Show the plot\n",
    "plt.show()\n"
   ],
   "metadata": {
    "collapsed": false,
    "ExecuteTime": {
     "end_time": "2023-10-06T17:09:24.521251719Z",
     "start_time": "2023-10-06T17:09:24.521160877Z"
    }
   },
   "id": "79834fd2012b6d7d"
  },
  {
   "cell_type": "code",
   "execution_count": null,
   "outputs": [],
   "source": [
    "\n",
    "# Set the style of the plot\n",
    "sns.set(style=\"whitegrid\")\n",
    "\n",
    "# Create a scatter plot using Seaborn\n",
    "plt.figure(figsize=(10, 6))  # Optional: Set the figure size\n",
    "sns.scatterplot(x='epoch', y='total', hue='directive', data=df, palette='Set1')\n",
    "\n",
    "# Add labels and legend\n",
    "plt.xlabel('Epoch')\n",
    "plt.ylabel('Total Time in s')\n",
    "plt.legend(title='GPU')\n",
    "\n",
    "# Show the plot\n",
    "plt.show()"
   ],
   "metadata": {
    "collapsed": false,
    "ExecuteTime": {
     "start_time": "2023-10-06T17:09:24.521236449Z"
    }
   },
   "id": "331740827b3dd78a"
  },
  {
   "cell_type": "code",
   "execution_count": null,
   "outputs": [],
   "source": [],
   "metadata": {
    "collapsed": false,
    "ExecuteTime": {
     "end_time": "2023-10-06T17:09:24.521998123Z",
     "start_time": "2023-10-06T17:09:24.521284010Z"
    }
   },
   "id": "b61c85fd0a4b6771"
  },
  {
   "cell_type": "code",
   "execution_count": null,
   "outputs": [],
   "source": [
    "\n",
    "\n",
    "# Filter rows with valid directive names\n",
    "df = df[df['directive'].notna()]\n",
    "\n",
    "# Specify the directive you want to select\n",
    "selected_directive = 'a100-dgx'  # Replace with your desired directive\n",
    "selected_epoch = 100\n",
    "\n",
    "# Filter the DataFrame for the selected directive and epoch\n",
    "filtered_df = df[(df['directive'] == selected_directive) & (df['result'].apply(lambda x: len(x['value']['training']['history']['accuracy'])) >= selected_epoch)]\n",
    "\n",
    "# Create an empty list to store accuracy histories\n",
    "accuracy_histories = []\n",
    "\n",
    "# Iterate through the filtered DataFrame and extract accuracy histories\n",
    "for index, row in filtered_df.iterrows():\n",
    "    result = row['result']\n",
    "    accuracy_history = result['value']['training']['history']['accuracy']\n",
    "    accuracy_histories.append(accuracy_history[:selected_epoch])\n",
    "\n",
    "# Create a Seaborn line plot for all matching directives\n",
    "plt.figure(figsize=(12, 6))\n",
    "sns.set_style(\"darkgrid\")\n",
    "\n",
    "for idx, accuracy_history in enumerate(accuracy_histories):\n",
    "    sns.lineplot(x=range(1, selected_epoch + 1), y=accuracy_history, label=f'Result {idx + 1}')\n",
    "\n",
    "plt.xlabel('Epoch')\n",
    "plt.ylabel('Accuracy')\n",
    "plt.title(f'Accuracy History for Directive: {selected_directive} at Epoch {selected_epoch}')\n",
    "plt.legend(title='Results')\n",
    "plt.show()\n"
   ],
   "metadata": {
    "collapsed": false,
    "ExecuteTime": {
     "start_time": "2023-10-06T17:09:24.521310280Z"
    }
   },
   "id": "32f8b5abdceb8cd7"
  },
  {
   "cell_type": "code",
   "execution_count": null,
   "outputs": [],
   "source": [
    "import pandas as pd\n",
    "import matplotlib.pyplot as plt\n",
    "import seaborn as sns\n",
    "\n",
    "# Filter rows with valid directive names\n",
    "df = df[df['directive'].notna()]\n",
    "\n",
    "# Specify the directive you want to plot\n",
    "selected_directive = 'v100'  # Replace with your desired directive\n",
    "\n",
    "# Filter the DataFrame for the selected directive\n",
    "directive_df = df[df['directive'] == selected_directive]\n",
    "\n",
    "# Extract all accuracy histories for the selected directive\n",
    "accuracy_histories = directive_df['result'].apply(lambda x: x['value']['training']['history']['accuracy'])\n",
    "\n",
    "# Create a Seaborn line plot for all accuracy histories\n",
    "plt.figure(figsize=(12, 6))\n",
    "sns.set(style=\"whitegrid\")\n",
    "\n",
    "for idx, accuracy_history in enumerate(accuracy_histories):\n",
    "    x_values = list(range(len(accuracy_history)))\n",
    "    sns.lineplot(x=x_values, y=accuracy_history, label=f'Result {idx + 1}')\n",
    "\n",
    "plt.xlabel('Epoch (Index)')\n",
    "plt.ylabel('Accuracy')\n",
    "plt.title(f'Accuracy History for Directive: {selected_directive}')\n",
    "plt.legend(title='Results')\n",
    "plt.show()\n"
   ],
   "metadata": {
    "collapsed": false,
    "ExecuteTime": {
     "start_time": "2023-10-06T17:09:24.521337441Z"
    }
   },
   "id": "507603c8d8759e8f"
  },
  {
   "cell_type": "code",
   "execution_count": null,
   "outputs": [],
   "source": [
    "\n",
    "\n",
    "# Filter rows with valid directive names\n",
    "df = df[df['directive'].notna()]\n",
    "\n",
    "# Specify the directive you want to select\n",
    "selected_directive = 'v100'  # Replace with your desired directive\n",
    "selected_epoch = 100\n",
    "\n",
    "# Filter the DataFrame for the selected directive and epoch\n",
    "filtered_df = df[(df['directive'] == selected_directive) & (df['result'].apply(lambda x: len(x['value']['training']['history']['accuracy'])) >= selected_epoch)]\n",
    "\n",
    "# Create an empty list to store accuracy histories\n",
    "accuracy_histories = []\n",
    "\n",
    "# Iterate through the filtered DataFrame and extract accuracy histories\n",
    "for index, row in filtered_df.iterrows():\n",
    "    result = row['result']\n",
    "    accuracy_history = result['value']['training']['history']['accuracy']\n",
    "    accuracy_histories.append(accuracy_history[:selected_epoch])\n",
    "\n",
    "# Create a Seaborn line plot for all matching directives\n",
    "plt.figure(figsize=(12, 6))\n",
    "sns.set(style=\"whitegrid\")\n",
    "\n",
    "for idx, accuracy_history in enumerate(accuracy_histories):\n",
    "    sns.lineplot(x=range(1, selected_epoch + 1), y=accuracy_history, label=f'Result {idx + 1}')\n",
    "\n",
    "plt.xlabel('Epoch')\n",
    "plt.ylabel('Accuracy')\n",
    "plt.title(f'Accuracy History for Directive: {selected_directive} at Epoch {selected_epoch}')\n",
    "plt.legend(title='Results')\n",
    "plt.show()"
   ],
   "metadata": {
    "collapsed": false,
    "ExecuteTime": {
     "start_time": "2023-10-06T17:09:24.521355671Z"
    }
   },
   "id": "e09acd37de6e1387"
  },
  {
   "cell_type": "code",
   "execution_count": null,
   "outputs": [],
   "source": [
    "import pandas as pd\n",
    "import matplotlib.pyplot as plt\n",
    "import seaborn as sns\n",
    "\n",
    "# Filter rows with valid directive names\n",
    "df = df[df['directive'].notna()]\n",
    "\n",
    "# Specify the directive you want to select\n",
    "selected_directive = 'a100-dgx'  # Replace with your desired directive\n",
    "selected_epoch = 100\n",
    "\n",
    "# Filter the DataFrame for the selected directive and epoch\n",
    "filtered_df = df[(df['directive'] == selected_directive) & (df['result'].apply(lambda x: len(x['value']['training']['history']['accuracy'])) >= selected_epoch)]\n",
    "\n",
    "# Create an empty list to store accuracy histories\n",
    "accuracy_histories = []\n",
    "\n",
    "# Iterate through the filtered DataFrame and extract accuracy histories\n",
    "for index, row in filtered_df.iterrows():\n",
    "    result = row['result']\n",
    "    accuracy_history = result['value']['training']['history']['accuracy']\n",
    "    accuracy_histories.append(accuracy_history[:selected_epoch])\n",
    "\n",
    "# Create a Seaborn line plot for all matching directives without a legend\n",
    "plt.figure(figsize=(12, 6))\n",
    "sns.set(style=\"whitegrid\")\n",
    "\n",
    "for idx, accuracy_history in enumerate(accuracy_histories):\n",
    "    sns.lineplot(x=range(1, selected_epoch + 1), y=accuracy_history, label=f'Result {idx + 1}')\n",
    "\n",
    "plt.xlabel('Epoch')\n",
    "plt.ylabel('Accuracy')\n",
    "plt.title(f'Accuracy History for Directive: {selected_directive} at Epoch {selected_epoch}')\n",
    "plt.show()\n"
   ],
   "metadata": {
    "collapsed": false,
    "ExecuteTime": {
     "start_time": "2023-10-06T17:09:24.521373032Z"
    }
   },
   "id": "df31aa6725841098"
  },
  {
   "cell_type": "code",
   "execution_count": null,
   "outputs": [],
   "source": [
    "def plot_history(data, epoch=100, directives=[\"a100-dgx\",\"v100\"], value=\"accuracy\"):\n",
    "    df = data[data['directive'].notna()].copy()\n",
    "    \n",
    "    # Specify the list of directives you want to select\n",
    "    selected_directives = directives # ['a100-dgx', 'v100']  # Replace with your desired directives\n",
    "    selected_epoch = epoch\n",
    "    \n",
    "    # Create an empty list to store accuracy histories for each directive\n",
    "    accuracy_histories_dict = {directive: [] for directive in selected_directives}\n",
    "    \n",
    "    \n",
    "    \n",
    "    # Iterate through the DataFrame and extract accuracy histories for selected directives\n",
    "    for directive in selected_directives:\n",
    "        filtered_df = df[(df['directive'] == directive) & (df['result'].apply(lambda x: len(x['value']['training']['history'][value])) >= selected_epoch)]\n",
    "        \n",
    "        for index, row in filtered_df.iterrows():\n",
    "            result = row['result']\n",
    "            accuracy_history = result['value']['training']['history'][value]\n",
    "            accuracy_histories_dict[directive].append(accuracy_history[:selected_epoch])\n",
    "    \n",
    "    # Create Seaborn line plots for each directive with a legend\n",
    "    plt.figure(figsize=(12, 6))\n",
    "    sns.set(style=\"whitegrid\")\n",
    "    \n",
    "    for directive, accuracy_histories in accuracy_histories_dict.items():\n",
    "        for idx, accuracy_history in enumerate(accuracy_histories):\n",
    "            sns.lineplot(x=range(1, selected_epoch + 1), y=accuracy_history, label=f'{directive} - Result {idx + 1}')\n",
    "    \n",
    "    plt.xlabel('Epoch')\n",
    "    plt.ylabel(value.capitalize())\n",
    "    plt.title(f'Accuracy History for Directives at Epoch {selected_epoch}')\n",
    "    plt.legend()\n",
    "    plt.show()\n"
   ],
   "metadata": {
    "collapsed": false,
    "ExecuteTime": {
     "start_time": "2023-10-06T17:09:24.521392182Z"
    }
   },
   "id": "e6ae2cfcf32b1e21"
  },
  {
   "cell_type": "code",
   "execution_count": null,
   "outputs": [],
   "source": [
    "\n",
    "value = 'accuracy'\n",
    "# Filter rows with valid directive names\n",
    "df = df[df['directive'].notna()]\n",
    "\n",
    "plot_history(df, directives=['a100-dgx', 'v100'], epoch=100, value=\"accuracy\")\n",
    "\n"
   ],
   "metadata": {
    "collapsed": false,
    "ExecuteTime": {
     "start_time": "2023-10-06T17:09:24.521409922Z"
    }
   },
   "id": "cac8fff44eb01905"
  },
  {
   "cell_type": "code",
   "execution_count": null,
   "outputs": [],
   "source": [
    "for k in result['value']['training']['history'].keys():\n",
    "    plot_history(df, directives=['a100-dgx', 'v100'], epoch=100, value=k)"
   ],
   "metadata": {
    "collapsed": false,
    "ExecuteTime": {
     "start_time": "2023-10-06T17:09:24.521427083Z"
    }
   },
   "id": "90e0869b186fbeaf"
  },
  {
   "cell_type": "code",
   "execution_count": null,
   "outputs": [],
   "source": [
    "result['value']['training']['history'].keys()\n"
   ],
   "metadata": {
    "collapsed": false,
    "ExecuteTime": {
     "start_time": "2023-10-06T17:09:24.521464853Z"
    }
   },
   "id": "36d19ff42b3c4de9"
  },
  {
   "cell_type": "code",
   "execution_count": null,
   "outputs": [],
   "source": [
    "\n",
    "# Filter rows with valid directive names\n",
    "df = df[df['directive'].notna()]\n",
    "\n",
    "# Specify the list of directives you want to select\n",
    "selected_directives = ['a100-dgx', 'v100']  # Replace with your desired directives\n",
    "selected_epoch = 100\n",
    "\n",
    "# Create a dictionary to store accuracy histories and best accuracies for each directive\n",
    "directive_data = {}\n",
    "\n",
    "# Iterate through the DataFrame and extract accuracy histories for selected directives\n",
    "for directive in selected_directives:\n",
    "    filtered_df = df[(df['directive'] == directive) & (df['result'].apply(lambda x: len(x['value']['training']['history']['accuracy'])) >= selected_epoch)]\n",
    "    \n",
    "    directive_accuracies = []\n",
    "    \n",
    "    for index, row in filtered_df.iterrows():\n",
    "        result = row['result']\n",
    "        accuracy_history = result['value']['training']['history']['accuracy']\n",
    "        directive_accuracies.append(accuracy_history[:selected_epoch])\n",
    "    \n",
    "    # Calculate the best accuracy for this directive\n",
    "    best_accuracy = max([accuracy[-1] for accuracy in directive_accuracies])\n",
    "    \n",
    "    directive_data[directive] = {\n",
    "        'accuracies': directive_accuracies,\n",
    "        'best_accuracy': best_accuracy\n",
    "    }\n",
    "\n",
    "# Sort directives by best accuracy in descending order\n",
    "sorted_directives = sorted(directive_data.keys(), key=lambda x: directive_data[x]['best_accuracy'], reverse=True)\n",
    "\n",
    "# Create Seaborn line plots for each directive with a legend\n",
    "plt.figure(figsize=(12, 6))\n",
    "sns.set_style(\"darkgrid\")\n",
    "\n",
    "for directive in sorted_directives:\n",
    "    for idx, accuracy_history in enumerate(directive_data[directive]['accuracies']):\n",
    "        best_accuracy = directive_data[directive]['best_accuracy']\n",
    "        sns.lineplot(x=range(1, selected_epoch + 1), y=accuracy_history, label=f'{directive} - Result {idx + 1} (Best: {best_accuracy:.4f})')\n",
    "\n",
    "plt.xlabel('Epoch')\n",
    "plt.ylabel('Accuracy')\n",
    "plt.title(f'Accuracy History for Directives at Epoch {selected_epoch}')\n",
    "plt.legend()\n",
    "plt.show()\n"
   ],
   "metadata": {
    "collapsed": false,
    "ExecuteTime": {
     "start_time": "2023-10-06T17:09:24.521490194Z"
    }
   },
   "id": "3f607b99bc95f595"
  },
  {
   "cell_type": "code",
   "execution_count": 290,
   "outputs": [
    {
     "name": "stdout",
     "output_type": "stream",
     "text": [
      "{'name': 'result-thf2bn-53854471.out', 'total': 10739.745, 'training': 10590.6, 'loaddata': 4.118, 'inference': 144.679, 'directive': 'v100', 'gpu_count': '1', 'cpu_num': 1, 'mem': '64GB', 'repeat': '5', 'epoch': '70', 'seed': 1234, 'learning_rate': 0.001, 'batch_size': 32, 'train_split': 0.8, 'clip_offset': 15, 'no_cache': False, 'nodes': 1, 'gpu': 1, 'early_stoppage_patience': '25', 'early_stoppage': 'False', 'card_name': 'v100', 'result': {'value': {'name': 'cloudmask', 'training': {'samples': 970, 'accuracy': 0.8849480152130127, 'loss': 0.2601945102214813, 'val_loss': 0.2793876826763153, 'val_accuracy': 0.8799592852592468, 'history': {'accuracy': [0.7971559762954712, 0.8036167621612549, 0.8068755269050598, 0.8164012432098389, 0.8104918003082275, 0.8150579929351807, 0.809596598148346, 0.8198840618133545, 0.8231695294380188, 0.8217014074325562, 0.8314782977104187, 0.8419565558433533, 0.8467669486999512, 0.851389467716217, 0.8547239303588867, 0.8569662570953369, 0.8529560565948486, 0.8562770485877991, 0.8571555018424988, 0.8612533211708069, 0.86093670129776, 0.8633123636245728, 0.8648520112037659, 0.8672714233398438, 0.86800217628479, 0.8684883713722229, 0.8689928650856018, 0.8708153367042542, 0.8728460073471069, 0.8720263242721558, 0.8743911981582642, 0.8713085055351257, 0.8731305599212646, 0.875930905342102, 0.8755276203155518, 0.8750144243240356, 0.8759661912918091, 0.8746057748794556, 0.8717871308326721, 0.8780733942985535, 0.8778254985809326, 0.8779628872871399, 0.8771510124206543, 0.8768048882484436, 0.8762545585632324, 0.8780935406684875, 0.878029465675354, 0.8791071176528931, 0.8806102275848389, 0.8794829845428467, 0.8801596760749817, 0.8821283578872681, 0.8824746608734131, 0.8801916837692261, 0.8809465169906616, 0.882117748260498, 0.8807238340377808, 0.8821170926094055, 0.8823124766349792, 0.8817462921142578, 0.882713258266449, 0.8839292526245117, 0.8827219605445862, 0.8825761675834656, 0.8849943280220032, 0.8832786083221436, 0.8848116397857666, 0.8849825263023376, 0.8855748772621155, 0.8849480152130127], 'loss': [0.43057680130004883, 0.3868241310119629, 0.37653210759162903, 0.37191805243492126, 0.37259817123413086, 0.3699168264865875, 0.3650084137916565, 0.3572779893875122, 0.3539367914199829, 0.3640691936016083, 0.34810689091682434, 0.3341286778450012, 0.3274889886379242, 0.3194959759712219, 0.31373706459999084, 0.3107760548591614, 0.3144351541996002, 0.31273719668388367, 0.30824530124664307, 0.3051598370075226, 0.30479755997657776, 0.3008135259151459, 0.2963641881942749, 0.2948143780231476, 0.2933521568775177, 0.29491209983825684, 0.2907404899597168, 0.288029283285141, 0.2854553163051605, 0.28605392575263977, 0.2832964360713959, 0.2861807644367218, 0.2820378541946411, 0.2798045575618744, 0.28097864985466003, 0.2803114056587219, 0.27963513135910034, 0.28156983852386475, 0.2849934697151184, 0.27691885828971863, 0.2761290371417999, 0.27344226837158203, 0.2756351828575134, 0.2761900722980499, 0.2755855321884155, 0.2724992036819458, 0.2715945243835449, 0.2726806700229645, 0.2702755928039551, 0.2707327604293823, 0.26914530992507935, 0.2672998607158661, 0.2653893530368805, 0.2707858979701996, 0.26888710260391235, 0.26429009437561035, 0.26705700159072876, 0.26433271169662476, 0.2644907832145691, 0.2654668688774109, 0.2637845575809479, 0.2615320086479187, 0.2629801630973816, 0.2634650468826294, 0.25998246669769287, 0.2621432840824127, 0.2603616416454315, 0.260457843542099, 0.25872427225112915, 0.2601945102214813], 'val_loss': [0.45389050245285034, 0.43061962723731995, 0.4013422429561615, 0.42080938816070557, 0.395188570022583, 0.39979249238967896, 0.39877310395240784, 0.4145936369895935, 0.3784829080104828, 0.3892180621623993, 0.3713390827178955, 0.36597907543182373, 0.34918883442878723, 0.3361833393573761, 0.33424654603004456, 0.34345462918281555, 0.3452184796333313, 0.33300939202308655, 0.3561151325702667, 0.33258056640625, 0.3100963532924652, 0.32722580432891846, 0.31929418444633484, 0.3067832589149475, 0.30295196175575256, 0.3147284686565399, 0.3125918507575989, 0.3050999939441681, 0.31659048795700073, 0.302707701921463, 0.30327436327934265, 0.3065930902957916, 0.29703590273857117, 0.2960212826728821, 0.29190030694007874, 0.2948874533176422, 0.2921930253505707, 0.2942402958869934, 0.2906084656715393, 0.2935509979724884, 0.2984870672225952, 0.2999739646911621, 0.29295942187309265, 0.2930569648742676, 0.290778249502182, 0.28762853145599365, 0.2904091477394104, 0.2816406786441803, 0.29552775621414185, 0.2868202030658722, 0.28450778126716614, 0.28301164507865906, 0.2807203531265259, 0.28039175271987915, 0.2878774106502533, 0.28569889068603516, 0.3039056658744812, 0.2813010513782501, 0.28331518173217773, 0.2812541127204895, 0.2832031548023224, 0.2804718613624573, 0.28866803646087646, 0.2779247462749481, 0.27656784653663635, 0.2857021391391754, 0.28377673029899597, 0.27749380469322205, 0.2795368432998657, 0.2793876826763153], 'val_accuracy': [0.7767935395240784, 0.775540292263031, 0.8011550903320312, 0.7952496409416199, 0.8039715886116028, 0.7966544032096863, 0.7960512042045593, 0.8099052309989929, 0.8374516367912292, 0.8269608020782471, 0.8236475586891174, 0.8257650136947632, 0.8420281410217285, 0.8540118336677551, 0.8504691123962402, 0.8509190082550049, 0.8481219410896301, 0.8540127873420715, 0.8348009586334229, 0.8534428477287292, 0.8578217029571533, 0.8559457063674927, 0.8581292033195496, 0.8632622361183167, 0.8676828145980835, 0.8639155626296997, 0.8643791675567627, 0.8679339289665222, 0.8617703318595886, 0.863847553730011, 0.8682820796966553, 0.8685378432273865, 0.8699041604995728, 0.8732900619506836, 0.8731300830841064, 0.8718216419219971, 0.8756145238876343, 0.8728165030479431, 0.8722469210624695, 0.8747484683990479, 0.8692426681518555, 0.8694444894790649, 0.873407244682312, 0.8717463612556458, 0.8729797601699829, 0.8757378458976746, 0.8733677268028259, 0.8770347237586975, 0.8732863664627075, 0.872306227684021, 0.8756421208381653, 0.8771953582763672, 0.8779804110527039, 0.8791961073875427, 0.8724019527435303, 0.8737383484840393, 0.8651539087295532, 0.8782283663749695, 0.8751494288444519, 0.8749458193778992, 0.8758198618888855, 0.8772931098937988, 0.8728049397468567, 0.8781270384788513, 0.8808680176734924, 0.8775757551193237, 0.8762949109077454, 0.8789771795272827, 0.8788212537765503, 0.8799592852592468]}, 'batch_size': 32, 'crop_size': 80, 'learning_rate': 0.001}, 'inference': {'avg_accuracy': 0.8767142777777777, 'accuracy': [0.9233438888888889, 0.9345094444444444, 0.8940772222222222, 0.9105144444444444, 0.8391288888888889, 0.95098, 0.8876861111111111, 0.7732322222222222, 0.8472777777777778, 0.9639461111111111, 0.9149733333333333, 0.8905033333333333, 0.6264644444444445, 0.9434594444444444, 0.9502511111111112, 0.8874255555555556, 0.9090383333333333, 0.783135, 0.8810644444444444, 0.8861566666666667, 0.9271861111111112, 0.7000683333333333, 0.9493627777777778, 0.8812888888888889, 0.7280755555555556, 0.9413794444444444, 0.6406661111111112, 0.9485711111111111, 0.8190166666666666, 0.8649538888888889, 0.9245216666666667, 0.5231455555555555, 0.8900266666666666, 0.9201622222222222, 0.8942827777777778, 0.9398694444444444, 0.9456305555555555, 0.8512122222222223, 0.9236327777777777, 0.9262188888888889, 0.8431988888888889, 0.7898244444444444, 0.9462755555555555, 0.9299205555555555, 0.9505644444444444, 0.8782683333333333, 0.8345605555555555, 0.9333472222222222, 0.8361561111111111, 0.8908183333333334, 0.90968, 0.9309866666666666, 0.7933927777777777, 0.9122016666666667, 0.7026127777777778, 0.8870366666666667, 0.8692122222222223, 0.9070755555555555, 0.930505, 0.9060172222222223, 0.9090455555555556, 0.9134227777777778, 0.8983916666666667, 0.8190194444444444, 0.7275561111111111, 0.8331155555555556, 0.9206822222222222, 0.867085, 0.85498, 0.8969744444444444, 0.8837505555555556, 0.9042238888888889, 0.9291705555555556, 0.8913488888888889, 0.8909755555555555, 0.9325277777777777, 0.8544688888888888, 0.909215, 0.9091288888888889, 0.873935, 0.9154433333333334, 0.9015288888888889, 0.8813138888888888, 0.8597738888888888, 0.9020194444444445, 0.9287488888888888, 0.8618527777777778, 0.9171522222222223, 0.8757566666666666, 0.9054572222222222, 0.9153788888888889, 0.8185816666666667, 0.9260683333333334, 0.8471155555555555, 0.9500361111111111, 0.83239, 0.8784616666666667, 0.863745, 0.9020511111111111, 0.85144]}, 'inference_analyze': {'number': 100, 'bs': 32, 'nodes': 1, 'gpus': 1, 'time_per_inference': '1.45'}}}}\n"
     ]
    }
   ],
   "source": [
    "print(result_data[0])"
   ],
   "metadata": {
    "collapsed": false,
    "ExecuteTime": {
     "end_time": "2023-10-06T17:09:39.014578210Z",
     "start_time": "2023-10-06T17:09:38.954683058Z"
    }
   },
   "id": "46df1e8d2333481f"
  },
  {
   "cell_type": "code",
   "execution_count": 296,
   "outputs": [
    {
     "name": "stdout",
     "output_type": "stream",
     "text": [
      "OOOO\n",
      "10500\n",
      "3378\n",
      "3378\n",
      "3378\n"
     ]
    },
    {
     "data": {
      "text/plain": "          Loss  Val_Accuracy  Val_Loss  Index\n0     0.430577      0.776794  0.453891      1\n1     0.386824      0.775540  0.430620      2\n2     0.376532      0.801155  0.401342      3\n3     0.371918      0.795250  0.420809      4\n4     0.372598      0.803972  0.395189      5\n...        ...           ...       ...    ...\n3373  0.293370      0.866613  0.312281   3374\n3374  0.292041      0.866306  0.307600   3375\n3375  0.292379      0.863489  0.318265   3376\n3376  0.288750      0.862671  0.312229   3377\n3377  0.429758      0.771661  0.435519   3378\n\n[3378 rows x 4 columns]",
      "text/html": "<div>\n<style scoped>\n    .dataframe tbody tr th:only-of-type {\n        vertical-align: middle;\n    }\n\n    .dataframe tbody tr th {\n        vertical-align: top;\n    }\n\n    .dataframe thead th {\n        text-align: right;\n    }\n</style>\n<table border=\"1\" class=\"dataframe\">\n  <thead>\n    <tr style=\"text-align: right;\">\n      <th></th>\n      <th>Loss</th>\n      <th>Val_Accuracy</th>\n      <th>Val_Loss</th>\n      <th>Index</th>\n    </tr>\n  </thead>\n  <tbody>\n    <tr>\n      <th>0</th>\n      <td>0.430577</td>\n      <td>0.776794</td>\n      <td>0.453891</td>\n      <td>1</td>\n    </tr>\n    <tr>\n      <th>1</th>\n      <td>0.386824</td>\n      <td>0.775540</td>\n      <td>0.430620</td>\n      <td>2</td>\n    </tr>\n    <tr>\n      <th>2</th>\n      <td>0.376532</td>\n      <td>0.801155</td>\n      <td>0.401342</td>\n      <td>3</td>\n    </tr>\n    <tr>\n      <th>3</th>\n      <td>0.371918</td>\n      <td>0.795250</td>\n      <td>0.420809</td>\n      <td>4</td>\n    </tr>\n    <tr>\n      <th>4</th>\n      <td>0.372598</td>\n      <td>0.803972</td>\n      <td>0.395189</td>\n      <td>5</td>\n    </tr>\n    <tr>\n      <th>...</th>\n      <td>...</td>\n      <td>...</td>\n      <td>...</td>\n      <td>...</td>\n    </tr>\n    <tr>\n      <th>3373</th>\n      <td>0.293370</td>\n      <td>0.866613</td>\n      <td>0.312281</td>\n      <td>3374</td>\n    </tr>\n    <tr>\n      <th>3374</th>\n      <td>0.292041</td>\n      <td>0.866306</td>\n      <td>0.307600</td>\n      <td>3375</td>\n    </tr>\n    <tr>\n      <th>3375</th>\n      <td>0.292379</td>\n      <td>0.863489</td>\n      <td>0.318265</td>\n      <td>3376</td>\n    </tr>\n    <tr>\n      <th>3376</th>\n      <td>0.288750</td>\n      <td>0.862671</td>\n      <td>0.312229</td>\n      <td>3377</td>\n    </tr>\n    <tr>\n      <th>3377</th>\n      <td>0.429758</td>\n      <td>0.771661</td>\n      <td>0.435519</td>\n      <td>3378</td>\n    </tr>\n  </tbody>\n</table>\n<p>3378 rows × 4 columns</p>\n</div>"
     },
     "execution_count": 296,
     "metadata": {},
     "output_type": "execute_result"
    }
   ],
   "source": [
    "accuracy_list = []\n",
    "loss_list = []\n",
    "val_accuracy_list = []\n",
    "val_loss_list = []\n",
    "\n",
    "# Iterate through the list of dictionaries and extract the values\n",
    "for entry in result_data:\n",
    "    accuracy_list.extend(entry['result']['value']['inference']['accuracy'])\n",
    "    loss_list.extend(entry['result']['value']['training']['history']['loss'])\n",
    "    val_accuracy_list.extend(entry['result']['value']['training']['history']['val_accuracy'])\n",
    "    val_loss_list.extend(entry['result']['value']['training']['history']['val_loss'])\n",
    "    \n",
    "print (\"OOOO\")\n",
    "print (len(accuracy_list))\n",
    "print (len(loss_list))\n",
    "print (len(val_accuracy_list))\n",
    "print (len(val_loss_list))\n",
    "\n",
    "# Create a DataFrame with the extracted values\n",
    "df = pd.DataFrame({\n",
    "#    'Accuracy': accuracy_list,\n",
    "    'Loss': loss_list,\n",
    "    'Val_Accuracy': val_accuracy_list,\n",
    "    'Val_Loss': val_loss_list\n",
    "})\n",
    "df['Index'] = range(1, len(df) + 1)\n",
    "# Display the DataFrame\n",
    "df"
   ],
   "metadata": {
    "collapsed": false,
    "ExecuteTime": {
     "end_time": "2023-10-06T17:13:36.954000094Z",
     "start_time": "2023-10-06T17:13:36.911286595Z"
    }
   },
   "id": "b6892b3966f04fcb"
  },
  {
   "cell_type": "code",
   "execution_count": 297,
   "outputs": [
    {
     "name": "stdout",
     "output_type": "stream",
     "text": [
      "<bound method NDFrame.head of           Loss  Val_Accuracy  Val_Loss  Index\n",
      "0     0.430577      0.776794  0.453891      1\n",
      "1     0.386824      0.775540  0.430620      2\n",
      "2     0.376532      0.801155  0.401342      3\n",
      "3     0.371918      0.795250  0.420809      4\n",
      "4     0.372598      0.803972  0.395189      5\n",
      "...        ...           ...       ...    ...\n",
      "3373  0.293370      0.866613  0.312281   3374\n",
      "3374  0.292041      0.866306  0.307600   3375\n",
      "3375  0.292379      0.863489  0.318265   3376\n",
      "3376  0.288750      0.862671  0.312229   3377\n",
      "3377  0.429758      0.771661  0.435519   3378\n",
      "\n",
      "[3378 rows x 4 columns]>\n"
     ]
    }
   ],
   "source": [
    "print(df.head)\n"
   ],
   "metadata": {
    "collapsed": false,
    "ExecuteTime": {
     "end_time": "2023-10-06T17:18:41.323295185Z",
     "start_time": "2023-10-06T17:18:41.258573736Z"
    }
   },
   "id": "fcb9d9b9d82a3df4"
  },
  {
   "cell_type": "code",
   "execution_count": 301,
   "outputs": [
    {
     "data": {
      "text/plain": "          Loss  Val_Accuracy  Val_Loss  Index\n1083  0.213068      0.898055  0.243567   1084\n1081  0.215439      0.899954  0.247064   1082\n1080  0.216453      0.897066  0.255360   1081\n1079  0.217210      0.899515  0.247711   1080\n1082  0.218885      0.899921  0.241348   1083\n1076  0.219385      0.896986  0.254129   1077\n1075  0.220052      0.899768  0.246114   1076\n547   0.220269      0.888677  0.254200    548\n1078  0.221557      0.900421  0.240277   1079\n543   0.221967      0.893634  0.251591    544",
      "text/html": "<div>\n<style scoped>\n    .dataframe tbody tr th:only-of-type {\n        vertical-align: middle;\n    }\n\n    .dataframe tbody tr th {\n        vertical-align: top;\n    }\n\n    .dataframe thead th {\n        text-align: right;\n    }\n</style>\n<table border=\"1\" class=\"dataframe\">\n  <thead>\n    <tr style=\"text-align: right;\">\n      <th></th>\n      <th>Loss</th>\n      <th>Val_Accuracy</th>\n      <th>Val_Loss</th>\n      <th>Index</th>\n    </tr>\n  </thead>\n  <tbody>\n    <tr>\n      <th>1083</th>\n      <td>0.213068</td>\n      <td>0.898055</td>\n      <td>0.243567</td>\n      <td>1084</td>\n    </tr>\n    <tr>\n      <th>1081</th>\n      <td>0.215439</td>\n      <td>0.899954</td>\n      <td>0.247064</td>\n      <td>1082</td>\n    </tr>\n    <tr>\n      <th>1080</th>\n      <td>0.216453</td>\n      <td>0.897066</td>\n      <td>0.255360</td>\n      <td>1081</td>\n    </tr>\n    <tr>\n      <th>1079</th>\n      <td>0.217210</td>\n      <td>0.899515</td>\n      <td>0.247711</td>\n      <td>1080</td>\n    </tr>\n    <tr>\n      <th>1082</th>\n      <td>0.218885</td>\n      <td>0.899921</td>\n      <td>0.241348</td>\n      <td>1083</td>\n    </tr>\n    <tr>\n      <th>1076</th>\n      <td>0.219385</td>\n      <td>0.896986</td>\n      <td>0.254129</td>\n      <td>1077</td>\n    </tr>\n    <tr>\n      <th>1075</th>\n      <td>0.220052</td>\n      <td>0.899768</td>\n      <td>0.246114</td>\n      <td>1076</td>\n    </tr>\n    <tr>\n      <th>547</th>\n      <td>0.220269</td>\n      <td>0.888677</td>\n      <td>0.254200</td>\n      <td>548</td>\n    </tr>\n    <tr>\n      <th>1078</th>\n      <td>0.221557</td>\n      <td>0.900421</td>\n      <td>0.240277</td>\n      <td>1079</td>\n    </tr>\n    <tr>\n      <th>543</th>\n      <td>0.221967</td>\n      <td>0.893634</td>\n      <td>0.251591</td>\n      <td>544</td>\n    </tr>\n  </tbody>\n</table>\n</div>"
     },
     "execution_count": 301,
     "metadata": {},
     "output_type": "execute_result"
    }
   ],
   "source": [
    "n = 10\n",
    "sorted_loss_df = df.sort_values(by='Loss', ascending=True)\n",
    "sorted_loss_df.head(n)\n"
   ],
   "metadata": {
    "collapsed": false,
    "ExecuteTime": {
     "end_time": "2023-10-06T17:22:53.472835949Z",
     "start_time": "2023-10-06T17:22:53.459234535Z"
    }
   },
   "id": "120eb23bf5e6701f"
  },
  {
   "cell_type": "code",
   "execution_count": 302,
   "outputs": [
    {
     "data": {
      "text/plain": "          Loss  Val_Accuracy  Val_Loss  Index\n1078  0.221557      0.900421  0.240277   1079\n1081  0.215439      0.899954  0.247064   1082\n1082  0.218885      0.899921  0.241348   1083\n1075  0.220052      0.899768  0.246114   1076\n1079  0.217210      0.899515  0.247711   1080\n545   0.222495      0.898925  0.245414    546\n1083  0.213068      0.898055  0.243567   1084\n1074  0.226875      0.897595  0.244554   1075\n1069  0.229369      0.897237  0.246573   1070\n536   0.225548      0.897211  0.245603    537",
      "text/html": "<div>\n<style scoped>\n    .dataframe tbody tr th:only-of-type {\n        vertical-align: middle;\n    }\n\n    .dataframe tbody tr th {\n        vertical-align: top;\n    }\n\n    .dataframe thead th {\n        text-align: right;\n    }\n</style>\n<table border=\"1\" class=\"dataframe\">\n  <thead>\n    <tr style=\"text-align: right;\">\n      <th></th>\n      <th>Loss</th>\n      <th>Val_Accuracy</th>\n      <th>Val_Loss</th>\n      <th>Index</th>\n    </tr>\n  </thead>\n  <tbody>\n    <tr>\n      <th>1078</th>\n      <td>0.221557</td>\n      <td>0.900421</td>\n      <td>0.240277</td>\n      <td>1079</td>\n    </tr>\n    <tr>\n      <th>1081</th>\n      <td>0.215439</td>\n      <td>0.899954</td>\n      <td>0.247064</td>\n      <td>1082</td>\n    </tr>\n    <tr>\n      <th>1082</th>\n      <td>0.218885</td>\n      <td>0.899921</td>\n      <td>0.241348</td>\n      <td>1083</td>\n    </tr>\n    <tr>\n      <th>1075</th>\n      <td>0.220052</td>\n      <td>0.899768</td>\n      <td>0.246114</td>\n      <td>1076</td>\n    </tr>\n    <tr>\n      <th>1079</th>\n      <td>0.217210</td>\n      <td>0.899515</td>\n      <td>0.247711</td>\n      <td>1080</td>\n    </tr>\n    <tr>\n      <th>545</th>\n      <td>0.222495</td>\n      <td>0.898925</td>\n      <td>0.245414</td>\n      <td>546</td>\n    </tr>\n    <tr>\n      <th>1083</th>\n      <td>0.213068</td>\n      <td>0.898055</td>\n      <td>0.243567</td>\n      <td>1084</td>\n    </tr>\n    <tr>\n      <th>1074</th>\n      <td>0.226875</td>\n      <td>0.897595</td>\n      <td>0.244554</td>\n      <td>1075</td>\n    </tr>\n    <tr>\n      <th>1069</th>\n      <td>0.229369</td>\n      <td>0.897237</td>\n      <td>0.246573</td>\n      <td>1070</td>\n    </tr>\n    <tr>\n      <th>536</th>\n      <td>0.225548</td>\n      <td>0.897211</td>\n      <td>0.245603</td>\n      <td>537</td>\n    </tr>\n  </tbody>\n</table>\n</div>"
     },
     "execution_count": 302,
     "metadata": {},
     "output_type": "execute_result"
    }
   ],
   "source": [
    "n = 10\n",
    "sorted_loss_df = df.sort_values(by='Val_Accuracy', ascending=False)\n",
    "sorted_loss_df.head(n)"
   ],
   "metadata": {
    "collapsed": false,
    "ExecuteTime": {
     "end_time": "2023-10-06T17:23:30.143329734Z",
     "start_time": "2023-10-06T17:23:30.089134704Z"
    }
   },
   "id": "f408b0a3ed8c889d"
  },
  {
   "cell_type": "code",
   "execution_count": 303,
   "outputs": [
    {
     "data": {
      "text/plain": "          Loss  Val_Accuracy  Val_Loss  Index\n1078  0.221557      0.900421  0.240277   1079\n1082  0.218885      0.899921  0.241348   1083\n1083  0.213068      0.898055  0.243567   1084\n1074  0.226875      0.897595  0.244554   1075\n545   0.222495      0.898925  0.245414    546\n536   0.225548      0.897211  0.245603    537\n1075  0.220052      0.899768  0.246114   1076\n1069  0.229369      0.897237  0.246573   1070\n539   0.223255      0.895780  0.246660    540\n1081  0.215439      0.899954  0.247064   1082",
      "text/html": "<div>\n<style scoped>\n    .dataframe tbody tr th:only-of-type {\n        vertical-align: middle;\n    }\n\n    .dataframe tbody tr th {\n        vertical-align: top;\n    }\n\n    .dataframe thead th {\n        text-align: right;\n    }\n</style>\n<table border=\"1\" class=\"dataframe\">\n  <thead>\n    <tr style=\"text-align: right;\">\n      <th></th>\n      <th>Loss</th>\n      <th>Val_Accuracy</th>\n      <th>Val_Loss</th>\n      <th>Index</th>\n    </tr>\n  </thead>\n  <tbody>\n    <tr>\n      <th>1078</th>\n      <td>0.221557</td>\n      <td>0.900421</td>\n      <td>0.240277</td>\n      <td>1079</td>\n    </tr>\n    <tr>\n      <th>1082</th>\n      <td>0.218885</td>\n      <td>0.899921</td>\n      <td>0.241348</td>\n      <td>1083</td>\n    </tr>\n    <tr>\n      <th>1083</th>\n      <td>0.213068</td>\n      <td>0.898055</td>\n      <td>0.243567</td>\n      <td>1084</td>\n    </tr>\n    <tr>\n      <th>1074</th>\n      <td>0.226875</td>\n      <td>0.897595</td>\n      <td>0.244554</td>\n      <td>1075</td>\n    </tr>\n    <tr>\n      <th>545</th>\n      <td>0.222495</td>\n      <td>0.898925</td>\n      <td>0.245414</td>\n      <td>546</td>\n    </tr>\n    <tr>\n      <th>536</th>\n      <td>0.225548</td>\n      <td>0.897211</td>\n      <td>0.245603</td>\n      <td>537</td>\n    </tr>\n    <tr>\n      <th>1075</th>\n      <td>0.220052</td>\n      <td>0.899768</td>\n      <td>0.246114</td>\n      <td>1076</td>\n    </tr>\n    <tr>\n      <th>1069</th>\n      <td>0.229369</td>\n      <td>0.897237</td>\n      <td>0.246573</td>\n      <td>1070</td>\n    </tr>\n    <tr>\n      <th>539</th>\n      <td>0.223255</td>\n      <td>0.895780</td>\n      <td>0.246660</td>\n      <td>540</td>\n    </tr>\n    <tr>\n      <th>1081</th>\n      <td>0.215439</td>\n      <td>0.899954</td>\n      <td>0.247064</td>\n      <td>1082</td>\n    </tr>\n  </tbody>\n</table>\n</div>"
     },
     "execution_count": 303,
     "metadata": {},
     "output_type": "execute_result"
    }
   ],
   "source": [
    "n = 10\n",
    "sorted_loss_df = df.sort_values(by='Val_Loss', ascending=True)\n",
    "sorted_loss_df.head(n)"
   ],
   "metadata": {
    "collapsed": false,
    "ExecuteTime": {
     "end_time": "2023-10-06T17:24:21.772498806Z",
     "start_time": "2023-10-06T17:24:21.713136937Z"
    }
   },
   "id": "6bd469e8177bfdaa"
  },
  {
   "cell_type": "code",
   "execution_count": 304,
   "outputs": [
    {
     "data": {
      "text/plain": "       Accuracy  Index\n0      0.923344      1\n1      0.934509      2\n2      0.894077      3\n3      0.910514      4\n4      0.839129      5\n...         ...    ...\n10495  0.751298  10496\n10496  0.867493  10497\n10497  0.718101  10498\n10498  0.826334  10499\n10499  0.837769  10500\n\n[10500 rows x 2 columns]",
      "text/html": "<div>\n<style scoped>\n    .dataframe tbody tr th:only-of-type {\n        vertical-align: middle;\n    }\n\n    .dataframe tbody tr th {\n        vertical-align: top;\n    }\n\n    .dataframe thead th {\n        text-align: right;\n    }\n</style>\n<table border=\"1\" class=\"dataframe\">\n  <thead>\n    <tr style=\"text-align: right;\">\n      <th></th>\n      <th>Accuracy</th>\n      <th>Index</th>\n    </tr>\n  </thead>\n  <tbody>\n    <tr>\n      <th>0</th>\n      <td>0.923344</td>\n      <td>1</td>\n    </tr>\n    <tr>\n      <th>1</th>\n      <td>0.934509</td>\n      <td>2</td>\n    </tr>\n    <tr>\n      <th>2</th>\n      <td>0.894077</td>\n      <td>3</td>\n    </tr>\n    <tr>\n      <th>3</th>\n      <td>0.910514</td>\n      <td>4</td>\n    </tr>\n    <tr>\n      <th>4</th>\n      <td>0.839129</td>\n      <td>5</td>\n    </tr>\n    <tr>\n      <th>...</th>\n      <td>...</td>\n      <td>...</td>\n    </tr>\n    <tr>\n      <th>10495</th>\n      <td>0.751298</td>\n      <td>10496</td>\n    </tr>\n    <tr>\n      <th>10496</th>\n      <td>0.867493</td>\n      <td>10497</td>\n    </tr>\n    <tr>\n      <th>10497</th>\n      <td>0.718101</td>\n      <td>10498</td>\n    </tr>\n    <tr>\n      <th>10498</th>\n      <td>0.826334</td>\n      <td>10499</td>\n    </tr>\n    <tr>\n      <th>10499</th>\n      <td>0.837769</td>\n      <td>10500</td>\n    </tr>\n  </tbody>\n</table>\n<p>10500 rows × 2 columns</p>\n</div>"
     },
     "execution_count": 304,
     "metadata": {},
     "output_type": "execute_result"
    }
   ],
   "source": [
    "df = pd.DataFrame({\n",
    "    'Accuracy': accuracy_list,\n",
    "})\n",
    "df['Index'] = range(1, len(df) + 1)\n",
    "# Display the DataFrame\n",
    "df"
   ],
   "metadata": {
    "collapsed": false,
    "ExecuteTime": {
     "end_time": "2023-10-06T17:25:08.097115129Z",
     "start_time": "2023-10-06T17:25:08.041006334Z"
    }
   },
   "id": "c3a753ccc3e662d2"
  },
  {
   "cell_type": "code",
   "execution_count": 305,
   "outputs": [
    {
     "data": {
      "text/plain": "      Accuracy  Index\n3009  0.989144   3010\n3022  0.988317   3023\n3005  0.984737   3006\n3057  0.980435   3058\n3094  0.969111   3095\n3092  0.967100   3093\n1709  0.964410   1710\n2209  0.964246   2210\n1409  0.964241   1410\n1109  0.964023   1110",
      "text/html": "<div>\n<style scoped>\n    .dataframe tbody tr th:only-of-type {\n        vertical-align: middle;\n    }\n\n    .dataframe tbody tr th {\n        vertical-align: top;\n    }\n\n    .dataframe thead th {\n        text-align: right;\n    }\n</style>\n<table border=\"1\" class=\"dataframe\">\n  <thead>\n    <tr style=\"text-align: right;\">\n      <th></th>\n      <th>Accuracy</th>\n      <th>Index</th>\n    </tr>\n  </thead>\n  <tbody>\n    <tr>\n      <th>3009</th>\n      <td>0.989144</td>\n      <td>3010</td>\n    </tr>\n    <tr>\n      <th>3022</th>\n      <td>0.988317</td>\n      <td>3023</td>\n    </tr>\n    <tr>\n      <th>3005</th>\n      <td>0.984737</td>\n      <td>3006</td>\n    </tr>\n    <tr>\n      <th>3057</th>\n      <td>0.980435</td>\n      <td>3058</td>\n    </tr>\n    <tr>\n      <th>3094</th>\n      <td>0.969111</td>\n      <td>3095</td>\n    </tr>\n    <tr>\n      <th>3092</th>\n      <td>0.967100</td>\n      <td>3093</td>\n    </tr>\n    <tr>\n      <th>1709</th>\n      <td>0.964410</td>\n      <td>1710</td>\n    </tr>\n    <tr>\n      <th>2209</th>\n      <td>0.964246</td>\n      <td>2210</td>\n    </tr>\n    <tr>\n      <th>1409</th>\n      <td>0.964241</td>\n      <td>1410</td>\n    </tr>\n    <tr>\n      <th>1109</th>\n      <td>0.964023</td>\n      <td>1110</td>\n    </tr>\n  </tbody>\n</table>\n</div>"
     },
     "execution_count": 305,
     "metadata": {},
     "output_type": "execute_result"
    }
   ],
   "source": [
    "n = 10\n",
    "sorted_accuracy_loss = df.sort_values(by='Accuracy', ascending=False)\n",
    "sorted_accuracy_loss.head(n)\n"
   ],
   "metadata": {
    "collapsed": false,
    "ExecuteTime": {
     "end_time": "2023-10-06T17:26:28.517987815Z",
     "start_time": "2023-10-06T17:26:28.453832257Z"
    }
   },
   "id": "73fdae48fd5a8078"
  },
  {
   "cell_type": "code",
   "execution_count": null,
   "outputs": [],
   "source": [],
   "metadata": {
    "collapsed": false
   },
   "id": "416e59f43a6a1ac8"
  }
 ],
 "metadata": {
  "kernelspec": {
   "display_name": "Python 3",
   "language": "python",
   "name": "python3"
  },
  "language_info": {
   "codemirror_mode": {
    "name": "ipython",
    "version": 2
   },
   "file_extension": ".py",
   "mimetype": "text/x-python",
   "name": "python",
   "nbconvert_exporter": "python",
   "pygments_lexer": "ipython2",
   "version": "2.7.6"
  }
 },
 "nbformat": 4,
 "nbformat_minor": 5
}
