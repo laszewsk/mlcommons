{
 "cells": [
  {
   "cell_type": "code",
   "execution_count": 1,
   "metadata": {
    "collapsed": true,
    "ExecuteTime": {
     "end_time": "2023-07-03T14:23:11.322590109Z",
     "start_time": "2023-07-03T14:23:11.318544426Z"
    }
   },
   "outputs": [],
   "source": [
    "# Gregor von Laszewski laszewski@gmail.com"
   ]
  },
  {
   "cell_type": "code",
   "execution_count": 1,
   "outputs": [
    {
     "name": "stdout",
     "output_type": "stream",
     "text": [
      "[]\n"
     ]
    }
   ],
   "source": [
    "\n",
    "from cloudmesh.common.util import readfile\n",
    "from glob import glob\n",
    "from cloudmesh.common.Shell import Shell\n",
    "import sys\n",
    "from io import StringIO\n",
    "import numpy as np\n",
    "import pandas as pd\n",
    "import seaborn as sns\n",
    "import matplotlib.pyplot as plt\n",
    "\n",
    "files = glob(\"outputs/*.out\")\n",
    "\n",
    "print (files)"
   ],
   "metadata": {
    "collapsed": false,
    "ExecuteTime": {
     "end_time": "2023-07-07T12:04:29.491020978Z",
     "start_time": "2023-07-07T12:04:29.404450972Z"
    }
   }
  },
  {
   "cell_type": "code",
   "execution_count": 3,
   "outputs": [],
   "source": [
    "def get(value):\n",
    "    return float(df[df['timer'] == value][\"time\"])\n",
    "\n",
    "\n",
    "data = []\n",
    "\n",
    "for filename in files:\n",
    "    print (filename)\n",
    "    content = readfile(filename)\n",
    "    lines = Shell.find_lines_from(content, \"# inference\")\n",
    "    lines = Shell.find_lines_with(lines, \"# csv\")\n",
    "    content = \"\\n\".join(lines)\n",
    "    try:\n",
    "        #print (content)\n",
    "        # df = pd.read_csv(content)\n",
    "        df = pd.read_csv(StringIO(content), sep=\",\")\n",
    "        df = df.drop(columns=[\"# csv\", \"status\", \"sum\", \"start\", \"uname.node\", \"user\",\n",
    "                              \"uname.system\", \"platform.version\", \"msg\", \"tag\"])\n",
    "        for exclude in [\"init\",'number_of_ranks', \"number_of_nodes\", \"version\",\n",
    "                        \"result\", \"run_stop\", \"submission_status\"]:\n",
    "            df = df[df['timer'] != exclude]\n",
    "        # df = df.drop(rows=[\"init\"])\n",
    "\n",
    "        df['time'] = df['time'].astype(float)\n",
    "\n",
    "        total = get(\"total\")\n",
    "        training = get(\"training block\")\n",
    "        inference = get(\"inference block\")\n",
    "\n",
    "        #df[[\"rest\"]] = [\"rest\", 0.0]\n",
    "\n",
    "        rest = total - training - inference\n",
    "        rest_row = pd.DataFrame([{'timer':'rest', 'time': rest}])\n",
    "\n",
    "        df = pd.concat([df, rest_row], ignore_index=True)\n",
    "        # df = pd.concat([rest_row,df.loc[:]]).reset_index(drop=True)\n",
    "\n",
    "        df[[\"job\"]] = filename.replace(\".out\",\"\").replace(\"outputs/\", \"\")\n",
    "        df = df.reset_index()\n",
    "        df = df.drop(columns=[\"index\"])\n",
    "        #display(df)\n",
    "        #print (total, training, inference)\n",
    "        df.reset_index(drop=True, inplace=True)\n",
    "        data.append(df)\n",
    "    except:\n",
    "        print(f\"ERROR: {filename}\")"
   ],
   "metadata": {
    "collapsed": false,
    "ExecuteTime": {
     "end_time": "2023-07-03T14:23:11.364730939Z",
     "start_time": "2023-07-03T14:23:11.363317037Z"
    }
   }
  },
  {
   "cell_type": "markdown",
   "source": [],
   "metadata": {
    "collapsed": false
   }
  },
  {
   "cell_type": "code",
   "execution_count": 4,
   "outputs": [
    {
     "ename": "ValueError",
     "evalue": "No objects to concatenate",
     "output_type": "error",
     "traceback": [
      "\u001B[0;31m---------------------------------------------------------------------------\u001B[0m",
      "\u001B[0;31mValueError\u001B[0m                                Traceback (most recent call last)",
      "Cell \u001B[0;32mIn[4], line 1\u001B[0m\n\u001B[0;32m----> 1\u001B[0m data \u001B[38;5;241m=\u001B[39m \u001B[43mpd\u001B[49m\u001B[38;5;241;43m.\u001B[39;49m\u001B[43mconcat\u001B[49m\u001B[43m(\u001B[49m\u001B[43mdata\u001B[49m\u001B[43m,\u001B[49m\u001B[43m \u001B[49m\u001B[43mignore_index\u001B[49m\u001B[38;5;241;43m=\u001B[39;49m\u001B[38;5;28;43;01mTrue\u001B[39;49;00m\u001B[43m)\u001B[49m\n\u001B[1;32m      2\u001B[0m data\n",
      "File \u001B[0;32m~/ENV3/lib/python3.10/site-packages/pandas/util/_decorators.py:331\u001B[0m, in \u001B[0;36mdeprecate_nonkeyword_arguments.<locals>.decorate.<locals>.wrapper\u001B[0;34m(*args, **kwargs)\u001B[0m\n\u001B[1;32m    325\u001B[0m \u001B[38;5;28;01mif\u001B[39;00m \u001B[38;5;28mlen\u001B[39m(args) \u001B[38;5;241m>\u001B[39m num_allow_args:\n\u001B[1;32m    326\u001B[0m     warnings\u001B[38;5;241m.\u001B[39mwarn(\n\u001B[1;32m    327\u001B[0m         msg\u001B[38;5;241m.\u001B[39mformat(arguments\u001B[38;5;241m=\u001B[39m_format_argument_list(allow_args)),\n\u001B[1;32m    328\u001B[0m         \u001B[38;5;167;01mFutureWarning\u001B[39;00m,\n\u001B[1;32m    329\u001B[0m         stacklevel\u001B[38;5;241m=\u001B[39mfind_stack_level(),\n\u001B[1;32m    330\u001B[0m     )\n\u001B[0;32m--> 331\u001B[0m \u001B[38;5;28;01mreturn\u001B[39;00m \u001B[43mfunc\u001B[49m\u001B[43m(\u001B[49m\u001B[38;5;241;43m*\u001B[39;49m\u001B[43margs\u001B[49m\u001B[43m,\u001B[49m\u001B[43m \u001B[49m\u001B[38;5;241;43m*\u001B[39;49m\u001B[38;5;241;43m*\u001B[39;49m\u001B[43mkwargs\u001B[49m\u001B[43m)\u001B[49m\n",
      "File \u001B[0;32m~/ENV3/lib/python3.10/site-packages/pandas/core/reshape/concat.py:368\u001B[0m, in \u001B[0;36mconcat\u001B[0;34m(objs, axis, join, ignore_index, keys, levels, names, verify_integrity, sort, copy)\u001B[0m\n\u001B[1;32m    146\u001B[0m \u001B[38;5;129m@deprecate_nonkeyword_arguments\u001B[39m(version\u001B[38;5;241m=\u001B[39m\u001B[38;5;28;01mNone\u001B[39;00m, allowed_args\u001B[38;5;241m=\u001B[39m[\u001B[38;5;124m\"\u001B[39m\u001B[38;5;124mobjs\u001B[39m\u001B[38;5;124m\"\u001B[39m])\n\u001B[1;32m    147\u001B[0m \u001B[38;5;28;01mdef\u001B[39;00m \u001B[38;5;21mconcat\u001B[39m(\n\u001B[1;32m    148\u001B[0m     objs: Iterable[NDFrame] \u001B[38;5;241m|\u001B[39m Mapping[HashableT, NDFrame],\n\u001B[0;32m   (...)\u001B[0m\n\u001B[1;32m    157\u001B[0m     copy: \u001B[38;5;28mbool\u001B[39m \u001B[38;5;241m=\u001B[39m \u001B[38;5;28;01mTrue\u001B[39;00m,\n\u001B[1;32m    158\u001B[0m ) \u001B[38;5;241m-\u001B[39m\u001B[38;5;241m>\u001B[39m DataFrame \u001B[38;5;241m|\u001B[39m Series:\n\u001B[1;32m    159\u001B[0m     \u001B[38;5;124;03m\"\"\"\u001B[39;00m\n\u001B[1;32m    160\u001B[0m \u001B[38;5;124;03m    Concatenate pandas objects along a particular axis.\u001B[39;00m\n\u001B[1;32m    161\u001B[0m \n\u001B[0;32m   (...)\u001B[0m\n\u001B[1;32m    366\u001B[0m \u001B[38;5;124;03m    1   3   4\u001B[39;00m\n\u001B[1;32m    367\u001B[0m \u001B[38;5;124;03m    \"\"\"\u001B[39;00m\n\u001B[0;32m--> 368\u001B[0m     op \u001B[38;5;241m=\u001B[39m \u001B[43m_Concatenator\u001B[49m\u001B[43m(\u001B[49m\n\u001B[1;32m    369\u001B[0m \u001B[43m        \u001B[49m\u001B[43mobjs\u001B[49m\u001B[43m,\u001B[49m\n\u001B[1;32m    370\u001B[0m \u001B[43m        \u001B[49m\u001B[43maxis\u001B[49m\u001B[38;5;241;43m=\u001B[39;49m\u001B[43maxis\u001B[49m\u001B[43m,\u001B[49m\n\u001B[1;32m    371\u001B[0m \u001B[43m        \u001B[49m\u001B[43mignore_index\u001B[49m\u001B[38;5;241;43m=\u001B[39;49m\u001B[43mignore_index\u001B[49m\u001B[43m,\u001B[49m\n\u001B[1;32m    372\u001B[0m \u001B[43m        \u001B[49m\u001B[43mjoin\u001B[49m\u001B[38;5;241;43m=\u001B[39;49m\u001B[43mjoin\u001B[49m\u001B[43m,\u001B[49m\n\u001B[1;32m    373\u001B[0m \u001B[43m        \u001B[49m\u001B[43mkeys\u001B[49m\u001B[38;5;241;43m=\u001B[39;49m\u001B[43mkeys\u001B[49m\u001B[43m,\u001B[49m\n\u001B[1;32m    374\u001B[0m \u001B[43m        \u001B[49m\u001B[43mlevels\u001B[49m\u001B[38;5;241;43m=\u001B[39;49m\u001B[43mlevels\u001B[49m\u001B[43m,\u001B[49m\n\u001B[1;32m    375\u001B[0m \u001B[43m        \u001B[49m\u001B[43mnames\u001B[49m\u001B[38;5;241;43m=\u001B[39;49m\u001B[43mnames\u001B[49m\u001B[43m,\u001B[49m\n\u001B[1;32m    376\u001B[0m \u001B[43m        \u001B[49m\u001B[43mverify_integrity\u001B[49m\u001B[38;5;241;43m=\u001B[39;49m\u001B[43mverify_integrity\u001B[49m\u001B[43m,\u001B[49m\n\u001B[1;32m    377\u001B[0m \u001B[43m        \u001B[49m\u001B[43mcopy\u001B[49m\u001B[38;5;241;43m=\u001B[39;49m\u001B[43mcopy\u001B[49m\u001B[43m,\u001B[49m\n\u001B[1;32m    378\u001B[0m \u001B[43m        \u001B[49m\u001B[43msort\u001B[49m\u001B[38;5;241;43m=\u001B[39;49m\u001B[43msort\u001B[49m\u001B[43m,\u001B[49m\n\u001B[1;32m    379\u001B[0m \u001B[43m    \u001B[49m\u001B[43m)\u001B[49m\n\u001B[1;32m    381\u001B[0m     \u001B[38;5;28;01mreturn\u001B[39;00m op\u001B[38;5;241m.\u001B[39mget_result()\n",
      "File \u001B[0;32m~/ENV3/lib/python3.10/site-packages/pandas/core/reshape/concat.py:425\u001B[0m, in \u001B[0;36m_Concatenator.__init__\u001B[0;34m(self, objs, axis, join, keys, levels, names, ignore_index, verify_integrity, copy, sort)\u001B[0m\n\u001B[1;32m    422\u001B[0m     objs \u001B[38;5;241m=\u001B[39m \u001B[38;5;28mlist\u001B[39m(objs)\n\u001B[1;32m    424\u001B[0m \u001B[38;5;28;01mif\u001B[39;00m \u001B[38;5;28mlen\u001B[39m(objs) \u001B[38;5;241m==\u001B[39m \u001B[38;5;241m0\u001B[39m:\n\u001B[0;32m--> 425\u001B[0m     \u001B[38;5;28;01mraise\u001B[39;00m \u001B[38;5;167;01mValueError\u001B[39;00m(\u001B[38;5;124m\"\u001B[39m\u001B[38;5;124mNo objects to concatenate\u001B[39m\u001B[38;5;124m\"\u001B[39m)\n\u001B[1;32m    427\u001B[0m \u001B[38;5;28;01mif\u001B[39;00m keys \u001B[38;5;129;01mis\u001B[39;00m \u001B[38;5;28;01mNone\u001B[39;00m:\n\u001B[1;32m    428\u001B[0m     objs \u001B[38;5;241m=\u001B[39m \u001B[38;5;28mlist\u001B[39m(com\u001B[38;5;241m.\u001B[39mnot_none(\u001B[38;5;241m*\u001B[39mobjs))\n",
      "\u001B[0;31mValueError\u001B[0m: No objects to concatenate"
     ]
    }
   ],
   "source": [
    "data = pd.concat(data, ignore_index=True)\n",
    "data"
   ],
   "metadata": {
    "collapsed": false,
    "ExecuteTime": {
     "end_time": "2023-07-03T14:23:11.500843620Z",
     "start_time": "2023-07-03T14:23:11.365351089Z"
    }
   }
  },
  {
   "cell_type": "code",
   "execution_count": null,
   "outputs": [],
   "source": [
    "def simplify_job(name):\n",
    "   return \" \".join(name.split(\"-\")[:-2]).replace(\"fox\", \"special\")\n",
    "\n",
    "\n",
    "def get_by_timer(data, timer):\n",
    "    d = data[data['timer'] == timer]\n",
    "    d = d.reset_index()\n",
    "    d[\"job\"] = d[\"job\"].apply(simplify_job)\n",
    "    d = d.drop(columns=[\"index\"])\n",
    "    return d\n",
    "\n",
    "total = get_by_timer(data, \"total\")\n",
    "\n",
    "total"
   ],
   "metadata": {
    "collapsed": false
   }
  },
  {
   "cell_type": "code",
   "execution_count": null,
   "outputs": [],
   "source": [
    "\"\"\"\n",
    "+-------------------------+----------+---------+\n",
    "| Name                    | Status   |    Time |\n",
    "|-------------------------+----------+---------+\n",
    "| total                   | ok       | 203.461 |\n",
    "| init                    | ok       |   0     |\n",
    "| number_of_ranks         | ok       |   0     |\n",
    "| number_of_nodes         | ok       |   0     |\n",
    "| version                 | ok       |   0     |\n",
    "| training block          | ok       | 152.313 |\n",
    "| training                | ok       | 152.299 |\n",
    "| loaddata                | ok       |   1.766 |\n",
    "| training_on_mutiple_GPU | ok       | 148.641 |\n",
    "| inference block         | ok       |  51.018 |\n",
    "| inference               | ok       |   0.006 |\n",
    "| load model              | ok       |   0.196 |\n",
    "| read inference files    | ok       |   0.009 |\n",
    "| result                  | ok       |   0     |\n",
    "| run_stop                | ok       |   0     |\n",
    "| submission_status       | ok       |   0     |\n",
    "+-------------------------+----------+---------+\n",
    "\"\"\"\n",
    "\n",
    "addons = pd.DataFrame(\n",
    "    [\n",
    "        {'timer':'total', 'time': 203.461, 'job': 'rtx3090 desktop'}\n",
    "        {'timer':'total', 'time': 660.296, 'job': 'a100 greene'}\n",
    "    ])\n",
    "total = pd.concat([total, addons], ignore_index=True)\n",
    "\n",
    "\n",
    "total"
   ],
   "metadata": {
    "collapsed": false
   }
  },
  {
   "cell_type": "code",
   "execution_count": null,
   "outputs": [],
   "source": [
    "total = total.sort_values(by=['time'], ascending=False)"
   ],
   "metadata": {
    "collapsed": false
   }
  },
  {
   "cell_type": "code",
   "execution_count": null,
   "outputs": [],
   "source": [
    "def save_image(p, name, dpi=300):\n",
    "    # Shell.mkdir(directory)\n",
    "    p.figure.savefig(f\"{name}.svg\", bbox_inches=\"tight\")\n",
    "    p.figure.savefig(f\"{name}.png\", bbox_inches=\"tight\", dpi=dpi)\n",
    "    p.figure.savefig(f\"{name}.pdf\", bbox_inches=\"tight\")\n",
    "    p.figure.savefig(f\"{name}.tiff\", bbox_inches=\"tight\")"
   ],
   "metadata": {
    "collapsed": false
   }
  },
  {
   "cell_type": "markdown",
   "source": [],
   "metadata": {
    "collapsed": false
   }
  },
  {
   "cell_type": "markdown",
   "source": [],
   "metadata": {
    "collapsed": false
   }
  },
  {
   "cell_type": "code",
   "execution_count": null,
   "outputs": [],
   "source": [
    "def plot_by_timer(data, timer):\n",
    "    plt.xticks(rotation=45)\n",
    "    p = sns.barplot(data, x=\"job\", y=\"time\")\n",
    "    p.set(xlabel = \"GPU\", ylabel = \"Time in s\")\n",
    "    p.set_title(f\"{timer} Runtime Comparision of Rivanna GPUs\")\n",
    "    return p\n",
    "\n",
    "p = plot_by_timer(total, \"total\")"
   ],
   "metadata": {
    "collapsed": false
   }
  },
  {
   "cell_type": "code",
   "execution_count": null,
   "outputs": [],
   "source": [
    "save_image(p, \"./images/comparision-epoch-1\", dpi=300)"
   ],
   "metadata": {
    "collapsed": false
   }
  },
  {
   "cell_type": "code",
   "execution_count": null,
   "outputs": [],
   "source": [
    "training = get_by_timer(data, \"training block\")\n",
    "plot_by_timer(training, \"training block\")\n",
    "\n",
    "training"
   ],
   "metadata": {
    "collapsed": false
   }
  },
  {
   "cell_type": "code",
   "execution_count": null,
   "outputs": [],
   "source": [
    "inference = get_by_timer(data, \"inference block\")\n",
    "plot_by_timer(inference, \"inference block\")\n",
    "\n",
    "inference"
   ],
   "metadata": {
    "collapsed": false
   }
  },
  {
   "cell_type": "code",
   "execution_count": null,
   "outputs": [],
   "source": [
    "\n",
    "_data = data[data['timer'].isin([\"total\",\"training block\",\"inference block\"])]\n",
    "_data = _data.sort_values(by=['time'], ascending=False)\n",
    "_data = _data.reset_index()\n",
    "_data[\"job\"] = _data[\"job\"].apply(simplify_job)\n",
    "_data = _data.drop(columns=[\"index\"])\n",
    "\n",
    "# _data[\"job\"] = _data[\"job\"].apply(simplify_job)\n",
    "# _data = _data.drop(columns=[\"index\"])\n",
    "\n",
    "_data"
   ],
   "metadata": {
    "collapsed": false
   }
  },
  {
   "cell_type": "markdown",
   "source": [],
   "metadata": {
    "collapsed": false
   }
  },
  {
   "cell_type": "code",
   "execution_count": null,
   "outputs": [],
   "source": [
    "def get(name):\n",
    "    content = data[data.timer.isin([name])]['time'].tolist()\n",
    "    return {name: content}\n",
    "\n",
    "\n",
    "#plt.xticks(rotation=45)\n",
    "#p.set(xlabel = \"GPU\", ylabel = \"Time in s\")\n",
    "#p.set_title(\"Runtime Comparision of Rivanna GPUs\")\n",
    "\n",
    "\n",
    "stacked = pd.DataFrame(\n",
    "    [get['job'], get('total'), get('training block')]\n",
    ")\n",
    "\n",
    "stacked\n",
    "\n",
    "#stacked.set_index('job').plot(kind='bar', stacked=True, color=['blue', 'red', 'orange'])"
   ],
   "metadata": {
    "collapsed": false
   }
  },
  {
   "cell_type": "code",
   "execution_count": null,
   "outputs": [],
   "source": [],
   "metadata": {
    "collapsed": false
   }
  },
  {
   "cell_type": "code",
   "execution_count": null,
   "outputs": [],
   "source": [],
   "metadata": {
    "collapsed": false
   }
  }
 ],
 "metadata": {
  "kernelspec": {
   "display_name": "Python 3",
   "language": "python",
   "name": "python3"
  },
  "language_info": {
   "codemirror_mode": {
    "name": "ipython",
    "version": 2
   },
   "file_extension": ".py",
   "mimetype": "text/x-python",
   "name": "python",
   "nbconvert_exporter": "python",
   "pygments_lexer": "ipython2",
   "version": "2.7.6"
  }
 },
 "nbformat": 4,
 "nbformat_minor": 0
}
